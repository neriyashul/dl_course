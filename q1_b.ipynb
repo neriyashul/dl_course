{
 "cells": [
  {
   "cell_type": "markdown",
   "metadata": {},
   "source": [
    "## Installs"
   ]
  },
  {
   "cell_type": "code",
   "execution_count": 11,
   "metadata": {
    "is_executing": true,
    "scrolled": true,
    "vscode": {
     "languageId": "shellscript"
    }
   },
   "outputs": [
    {
     "name": "stdout",
     "output_type": "stream",
     "text": [
      "Requirement already satisfied: keras in c:\\users\\raviv\\appdata\\local\\packages\\pythonsoftwarefoundation.python.3.9_qbz5n2kfra8p0\\localcache\\local-packages\\python39\\site-packages (3.1.1)\n",
      "Requirement already satisfied: namex in c:\\users\\raviv\\appdata\\local\\packages\\pythonsoftwarefoundation.python.3.9_qbz5n2kfra8p0\\localcache\\local-packages\\python39\\site-packages (from keras) (0.0.7)\n",
      "Requirement already satisfied: optree in c:\\users\\raviv\\appdata\\local\\packages\\pythonsoftwarefoundation.python.3.9_qbz5n2kfra8p0\\localcache\\local-packages\\python39\\site-packages (from keras) (0.10.0)\n",
      "Requirement already satisfied: rich in c:\\users\\raviv\\appdata\\local\\packages\\pythonsoftwarefoundation.python.3.9_qbz5n2kfra8p0\\localcache\\local-packages\\python39\\site-packages (from keras) (13.7.1)\n",
      "Requirement already satisfied: numpy in c:\\users\\raviv\\appdata\\local\\packages\\pythonsoftwarefoundation.python.3.9_qbz5n2kfra8p0\\localcache\\local-packages\\python39\\site-packages (from keras) (1.24.3)\n",
      "Requirement already satisfied: absl-py in c:\\users\\raviv\\appdata\\local\\packages\\pythonsoftwarefoundation.python.3.9_qbz5n2kfra8p0\\localcache\\local-packages\\python39\\site-packages (from keras) (2.1.0)\n",
      "Requirement already satisfied: h5py in c:\\users\\raviv\\appdata\\local\\packages\\pythonsoftwarefoundation.python.3.9_qbz5n2kfra8p0\\localcache\\local-packages\\python39\\site-packages (from keras) (3.10.0)\n",
      "Requirement already satisfied: ml-dtypes in c:\\users\\raviv\\appdata\\local\\packages\\pythonsoftwarefoundation.python.3.9_qbz5n2kfra8p0\\localcache\\local-packages\\python39\\site-packages (from keras) (0.3.2)\n",
      "Requirement already satisfied: typing-extensions>=4.0.0 in c:\\users\\raviv\\appdata\\local\\packages\\pythonsoftwarefoundation.python.3.9_qbz5n2kfra8p0\\localcache\\local-packages\\python39\\site-packages (from optree->keras) (4.5.0)\n",
      "Requirement already satisfied: markdown-it-py>=2.2.0 in c:\\users\\raviv\\appdata\\local\\packages\\pythonsoftwarefoundation.python.3.9_qbz5n2kfra8p0\\localcache\\local-packages\\python39\\site-packages (from rich->keras) (3.0.0)\n",
      "Requirement already satisfied: pygments<3.0.0,>=2.13.0 in c:\\users\\raviv\\appdata\\local\\packages\\pythonsoftwarefoundation.python.3.9_qbz5n2kfra8p0\\localcache\\local-packages\\python39\\site-packages (from rich->keras) (2.17.2)\n",
      "Requirement already satisfied: mdurl~=0.1 in c:\\users\\raviv\\appdata\\local\\packages\\pythonsoftwarefoundation.python.3.9_qbz5n2kfra8p0\\localcache\\local-packages\\python39\\site-packages (from markdown-it-py>=2.2.0->rich->keras) (0.1.2)\n",
      "Note: you may need to restart the kernel to use updated packages.\n"
     ]
    },
    {
     "name": "stderr",
     "output_type": "stream",
     "text": [
      "WARNING: You are using pip version 22.0.4; however, version 24.0 is available.\n",
      "You should consider upgrading via the 'C:\\Users\\Raviv\\AppData\\Local\\Microsoft\\WindowsApps\\PythonSoftwareFoundation.Python.3.9_qbz5n2kfra8p0\\python.exe -m pip install --upgrade pip' command.\n"
     ]
    },
    {
     "name": "stdout",
     "output_type": "stream",
     "text": [
      "Requirement already satisfied: tensorflow in c:\\users\\raviv\\appdata\\local\\packages\\pythonsoftwarefoundation.python.3.9_qbz5n2kfra8p0\\localcache\\local-packages\\python39\\site-packages (2.16.1)\n",
      "Requirement already satisfied: tensorflow-intel==2.16.1 in c:\\users\\raviv\\appdata\\local\\packages\\pythonsoftwarefoundation.python.3.9_qbz5n2kfra8p0\\localcache\\local-packages\\python39\\site-packages (from tensorflow) (2.16.1)\n",
      "Requirement already satisfied: protobuf!=4.21.0,!=4.21.1,!=4.21.2,!=4.21.3,!=4.21.4,!=4.21.5,<5.0.0dev,>=3.20.3 in c:\\users\\raviv\\appdata\\local\\packages\\pythonsoftwarefoundation.python.3.9_qbz5n2kfra8p0\\localcache\\local-packages\\python39\\site-packages (from tensorflow-intel==2.16.1->tensorflow) (4.25.3)\n",
      "Requirement already satisfied: ml-dtypes~=0.3.1 in c:\\users\\raviv\\appdata\\local\\packages\\pythonsoftwarefoundation.python.3.9_qbz5n2kfra8p0\\localcache\\local-packages\\python39\\site-packages (from tensorflow-intel==2.16.1->tensorflow) (0.3.2)\n",
      "Requirement already satisfied: wrapt>=1.11.0 in c:\\users\\raviv\\appdata\\local\\packages\\pythonsoftwarefoundation.python.3.9_qbz5n2kfra8p0\\localcache\\local-packages\\python39\\site-packages (from tensorflow-intel==2.16.1->tensorflow) (1.16.0)\n",
      "Requirement already satisfied: packaging in c:\\users\\raviv\\appdata\\local\\packages\\pythonsoftwarefoundation.python.3.9_qbz5n2kfra8p0\\localcache\\local-packages\\python39\\site-packages (from tensorflow-intel==2.16.1->tensorflow) (23.1)\n",
      "Requirement already satisfied: flatbuffers>=23.5.26 in c:\\users\\raviv\\appdata\\local\\packages\\pythonsoftwarefoundation.python.3.9_qbz5n2kfra8p0\\localcache\\local-packages\\python39\\site-packages (from tensorflow-intel==2.16.1->tensorflow) (24.3.7)\n",
      "Requirement already satisfied: gast!=0.5.0,!=0.5.1,!=0.5.2,>=0.2.1 in c:\\users\\raviv\\appdata\\local\\packages\\pythonsoftwarefoundation.python.3.9_qbz5n2kfra8p0\\localcache\\local-packages\\python39\\site-packages (from tensorflow-intel==2.16.1->tensorflow) (0.5.4)\n",
      "Requirement already satisfied: tensorboard<2.17,>=2.16 in c:\\users\\raviv\\appdata\\local\\packages\\pythonsoftwarefoundation.python.3.9_qbz5n2kfra8p0\\localcache\\local-packages\\python39\\site-packages (from tensorflow-intel==2.16.1->tensorflow) (2.16.2)\n",
      "Requirement already satisfied: tensorflow-io-gcs-filesystem>=0.23.1 in c:\\users\\raviv\\appdata\\local\\packages\\pythonsoftwarefoundation.python.3.9_qbz5n2kfra8p0\\localcache\\local-packages\\python39\\site-packages (from tensorflow-intel==2.16.1->tensorflow) (0.31.0)\n",
      "Requirement already satisfied: astunparse>=1.6.0 in c:\\users\\raviv\\appdata\\local\\packages\\pythonsoftwarefoundation.python.3.9_qbz5n2kfra8p0\\localcache\\local-packages\\python39\\site-packages (from tensorflow-intel==2.16.1->tensorflow) (1.6.3)\n",
      "Requirement already satisfied: google-pasta>=0.1.1 in c:\\users\\raviv\\appdata\\local\\packages\\pythonsoftwarefoundation.python.3.9_qbz5n2kfra8p0\\localcache\\local-packages\\python39\\site-packages (from tensorflow-intel==2.16.1->tensorflow) (0.2.0)\n",
      "Requirement already satisfied: keras>=3.0.0 in c:\\users\\raviv\\appdata\\local\\packages\\pythonsoftwarefoundation.python.3.9_qbz5n2kfra8p0\\localcache\\local-packages\\python39\\site-packages (from tensorflow-intel==2.16.1->tensorflow) (3.1.1)\n",
      "Requirement already satisfied: setuptools in c:\\program files\\windowsapps\\pythonsoftwarefoundation.python.3.9_3.9.3568.0_x64__qbz5n2kfra8p0\\lib\\site-packages (from tensorflow-intel==2.16.1->tensorflow) (58.1.0)\n",
      "Requirement already satisfied: grpcio<2.0,>=1.24.3 in c:\\users\\raviv\\appdata\\local\\packages\\pythonsoftwarefoundation.python.3.9_qbz5n2kfra8p0\\localcache\\local-packages\\python39\\site-packages (from tensorflow-intel==2.16.1->tensorflow) (1.62.1)\n",
      "Requirement already satisfied: termcolor>=1.1.0 in c:\\users\\raviv\\appdata\\local\\packages\\pythonsoftwarefoundation.python.3.9_qbz5n2kfra8p0\\localcache\\local-packages\\python39\\site-packages (from tensorflow-intel==2.16.1->tensorflow) (2.4.0)\n",
      "Requirement already satisfied: h5py>=3.10.0 in c:\\users\\raviv\\appdata\\local\\packages\\pythonsoftwarefoundation.python.3.9_qbz5n2kfra8p0\\localcache\\local-packages\\python39\\site-packages (from tensorflow-intel==2.16.1->tensorflow) (3.10.0)\n",
      "Requirement already satisfied: libclang>=13.0.0 in c:\\users\\raviv\\appdata\\local\\packages\\pythonsoftwarefoundation.python.3.9_qbz5n2kfra8p0\\localcache\\local-packages\\python39\\site-packages (from tensorflow-intel==2.16.1->tensorflow) (18.1.1)\n",
      "Requirement already satisfied: six>=1.12.0 in c:\\users\\raviv\\appdata\\local\\packages\\pythonsoftwarefoundation.python.3.9_qbz5n2kfra8p0\\localcache\\local-packages\\python39\\site-packages (from tensorflow-intel==2.16.1->tensorflow) (1.16.0)\n",
      "Requirement already satisfied: requests<3,>=2.21.0 in c:\\users\\raviv\\appdata\\local\\packages\\pythonsoftwarefoundation.python.3.9_qbz5n2kfra8p0\\localcache\\local-packages\\python39\\site-packages (from tensorflow-intel==2.16.1->tensorflow) (2.31.0)\n",
      "Requirement already satisfied: typing-extensions>=3.6.6 in c:\\users\\raviv\\appdata\\local\\packages\\pythonsoftwarefoundation.python.3.9_qbz5n2kfra8p0\\localcache\\local-packages\\python39\\site-packages (from tensorflow-intel==2.16.1->tensorflow) (4.5.0)\n",
      "Requirement already satisfied: opt-einsum>=2.3.2 in c:\\users\\raviv\\appdata\\local\\packages\\pythonsoftwarefoundation.python.3.9_qbz5n2kfra8p0\\localcache\\local-packages\\python39\\site-packages (from tensorflow-intel==2.16.1->tensorflow) (3.3.0)\n",
      "Requirement already satisfied: absl-py>=1.0.0 in c:\\users\\raviv\\appdata\\local\\packages\\pythonsoftwarefoundation.python.3.9_qbz5n2kfra8p0\\localcache\\local-packages\\python39\\site-packages (from tensorflow-intel==2.16.1->tensorflow) (2.1.0)\n",
      "Requirement already satisfied: numpy<2.0.0,>=1.23.5 in c:\\users\\raviv\\appdata\\local\\packages\\pythonsoftwarefoundation.python.3.9_qbz5n2kfra8p0\\localcache\\local-packages\\python39\\site-packages (from tensorflow-intel==2.16.1->tensorflow) (1.24.3)\n",
      "Requirement already satisfied: wheel<1.0,>=0.23.0 in c:\\users\\raviv\\appdata\\local\\packages\\pythonsoftwarefoundation.python.3.9_qbz5n2kfra8p0\\localcache\\local-packages\\python39\\site-packages (from astunparse>=1.6.0->tensorflow-intel==2.16.1->tensorflow) (0.43.0)\n",
      "Requirement already satisfied: namex in c:\\users\\raviv\\appdata\\local\\packages\\pythonsoftwarefoundation.python.3.9_qbz5n2kfra8p0\\localcache\\local-packages\\python39\\site-packages (from keras>=3.0.0->tensorflow-intel==2.16.1->tensorflow) (0.0.7)\n",
      "Requirement already satisfied: optree in c:\\users\\raviv\\appdata\\local\\packages\\pythonsoftwarefoundation.python.3.9_qbz5n2kfra8p0\\localcache\\local-packages\\python39\\site-packages (from keras>=3.0.0->tensorflow-intel==2.16.1->tensorflow) (0.10.0)\n",
      "Requirement already satisfied: rich in c:\\users\\raviv\\appdata\\local\\packages\\pythonsoftwarefoundation.python.3.9_qbz5n2kfra8p0\\localcache\\local-packages\\python39\\site-packages (from keras>=3.0.0->tensorflow-intel==2.16.1->tensorflow) (13.7.1)\n",
      "Requirement already satisfied: urllib3<3,>=1.21.1 in c:\\users\\raviv\\appdata\\local\\packages\\pythonsoftwarefoundation.python.3.9_qbz5n2kfra8p0\\localcache\\local-packages\\python39\\site-packages (from requests<3,>=2.21.0->tensorflow-intel==2.16.1->tensorflow) (2.2.1)\n",
      "Requirement already satisfied: idna<4,>=2.5 in c:\\users\\raviv\\appdata\\local\\packages\\pythonsoftwarefoundation.python.3.9_qbz5n2kfra8p0\\localcache\\local-packages\\python39\\site-packages (from requests<3,>=2.21.0->tensorflow-intel==2.16.1->tensorflow) (3.6)\n",
      "Requirement already satisfied: charset-normalizer<4,>=2 in c:\\users\\raviv\\appdata\\local\\packages\\pythonsoftwarefoundation.python.3.9_qbz5n2kfra8p0\\localcache\\local-packages\\python39\\site-packages (from requests<3,>=2.21.0->tensorflow-intel==2.16.1->tensorflow) (3.3.2)\n",
      "Requirement already satisfied: certifi>=2017.4.17 in c:\\users\\raviv\\appdata\\local\\packages\\pythonsoftwarefoundation.python.3.9_qbz5n2kfra8p0\\localcache\\local-packages\\python39\\site-packages (from requests<3,>=2.21.0->tensorflow-intel==2.16.1->tensorflow) (2024.2.2)\n",
      "Requirement already satisfied: werkzeug>=1.0.1 in c:\\users\\raviv\\appdata\\local\\packages\\pythonsoftwarefoundation.python.3.9_qbz5n2kfra8p0\\localcache\\local-packages\\python39\\site-packages (from tensorboard<2.17,>=2.16->tensorflow-intel==2.16.1->tensorflow) (3.0.1)\n",
      "Requirement already satisfied: markdown>=2.6.8 in c:\\users\\raviv\\appdata\\local\\packages\\pythonsoftwarefoundation.python.3.9_qbz5n2kfra8p0\\localcache\\local-packages\\python39\\site-packages (from tensorboard<2.17,>=2.16->tensorflow-intel==2.16.1->tensorflow) (3.6)\n",
      "Requirement already satisfied: tensorboard-data-server<0.8.0,>=0.7.0 in c:\\users\\raviv\\appdata\\local\\packages\\pythonsoftwarefoundation.python.3.9_qbz5n2kfra8p0\\localcache\\local-packages\\python39\\site-packages (from tensorboard<2.17,>=2.16->tensorflow-intel==2.16.1->tensorflow) (0.7.2)\n",
      "Requirement already satisfied: importlib-metadata>=4.4 in c:\\users\\raviv\\appdata\\local\\packages\\pythonsoftwarefoundation.python.3.9_qbz5n2kfra8p0\\localcache\\local-packages\\python39\\site-packages (from markdown>=2.6.8->tensorboard<2.17,>=2.16->tensorflow-intel==2.16.1->tensorflow) (4.13.0)\n",
      "Requirement already satisfied: MarkupSafe>=2.1.1 in c:\\users\\raviv\\appdata\\local\\packages\\pythonsoftwarefoundation.python.3.9_qbz5n2kfra8p0\\localcache\\local-packages\\python39\\site-packages (from werkzeug>=1.0.1->tensorboard<2.17,>=2.16->tensorflow-intel==2.16.1->tensorflow) (2.1.2)\n",
      "Requirement already satisfied: markdown-it-py>=2.2.0 in c:\\users\\raviv\\appdata\\local\\packages\\pythonsoftwarefoundation.python.3.9_qbz5n2kfra8p0\\localcache\\local-packages\\python39\\site-packages (from rich->keras>=3.0.0->tensorflow-intel==2.16.1->tensorflow) (3.0.0)\n",
      "Requirement already satisfied: pygments<3.0.0,>=2.13.0 in c:\\users\\raviv\\appdata\\local\\packages\\pythonsoftwarefoundation.python.3.9_qbz5n2kfra8p0\\localcache\\local-packages\\python39\\site-packages (from rich->keras>=3.0.0->tensorflow-intel==2.16.1->tensorflow) (2.17.2)\n",
      "Requirement already satisfied: zipp>=0.5 in c:\\users\\raviv\\appdata\\local\\packages\\pythonsoftwarefoundation.python.3.9_qbz5n2kfra8p0\\localcache\\local-packages\\python39\\site-packages (from importlib-metadata>=4.4->markdown>=2.6.8->tensorboard<2.17,>=2.16->tensorflow-intel==2.16.1->tensorflow) (3.15.0)\n",
      "Requirement already satisfied: mdurl~=0.1 in c:\\users\\raviv\\appdata\\local\\packages\\pythonsoftwarefoundation.python.3.9_qbz5n2kfra8p0\\localcache\\local-packages\\python39\\site-packages (from markdown-it-py>=2.2.0->rich->keras>=3.0.0->tensorflow-intel==2.16.1->tensorflow) (0.1.2)\n",
      "Note: you may need to restart the kernel to use updated packages.\n"
     ]
    },
    {
     "name": "stderr",
     "output_type": "stream",
     "text": [
      "WARNING: You are using pip version 22.0.4; however, version 24.0 is available.\n",
      "You should consider upgrading via the 'C:\\Users\\Raviv\\AppData\\Local\\Microsoft\\WindowsApps\\PythonSoftwareFoundation.Python.3.9_qbz5n2kfra8p0\\python.exe -m pip install --upgrade pip' command.\n"
     ]
    },
    {
     "name": "stdout",
     "output_type": "stream",
     "text": [
      "Requirement already satisfied: matplotlib in c:\\users\\raviv\\appdata\\local\\packages\\pythonsoftwarefoundation.python.3.9_qbz5n2kfra8p0\\localcache\\local-packages\\python39\\site-packages (3.7.1)\n",
      "Requirement already satisfied: numpy>=1.20 in c:\\users\\raviv\\appdata\\local\\packages\\pythonsoftwarefoundation.python.3.9_qbz5n2kfra8p0\\localcache\\local-packages\\python39\\site-packages (from matplotlib) (1.24.3)\n",
      "Requirement already satisfied: kiwisolver>=1.0.1 in c:\\users\\raviv\\appdata\\local\\packages\\pythonsoftwarefoundation.python.3.9_qbz5n2kfra8p0\\localcache\\local-packages\\python39\\site-packages (from matplotlib) (1.4.4)\n",
      "Requirement already satisfied: cycler>=0.10 in c:\\users\\raviv\\appdata\\local\\packages\\pythonsoftwarefoundation.python.3.9_qbz5n2kfra8p0\\localcache\\local-packages\\python39\\site-packages (from matplotlib) (0.11.0)\n",
      "Requirement already satisfied: contourpy>=1.0.1 in c:\\users\\raviv\\appdata\\local\\packages\\pythonsoftwarefoundation.python.3.9_qbz5n2kfra8p0\\localcache\\local-packages\\python39\\site-packages (from matplotlib) (1.0.7)\n",
      "Requirement already satisfied: fonttools>=4.22.0 in c:\\users\\raviv\\appdata\\local\\packages\\pythonsoftwarefoundation.python.3.9_qbz5n2kfra8p0\\localcache\\local-packages\\python39\\site-packages (from matplotlib) (4.39.4)\n",
      "Requirement already satisfied: python-dateutil>=2.7 in c:\\users\\raviv\\appdata\\local\\packages\\pythonsoftwarefoundation.python.3.9_qbz5n2kfra8p0\\localcache\\local-packages\\python39\\site-packages (from matplotlib) (2.8.2)\n",
      "Requirement already satisfied: pyparsing>=2.3.1 in c:\\users\\raviv\\appdata\\local\\packages\\pythonsoftwarefoundation.python.3.9_qbz5n2kfra8p0\\localcache\\local-packages\\python39\\site-packages (from matplotlib) (3.0.9)\n",
      "Requirement already satisfied: packaging>=20.0 in c:\\users\\raviv\\appdata\\local\\packages\\pythonsoftwarefoundation.python.3.9_qbz5n2kfra8p0\\localcache\\local-packages\\python39\\site-packages (from matplotlib) (23.1)\n",
      "Requirement already satisfied: pillow>=6.2.0 in c:\\users\\raviv\\appdata\\local\\packages\\pythonsoftwarefoundation.python.3.9_qbz5n2kfra8p0\\localcache\\local-packages\\python39\\site-packages (from matplotlib) (9.5.0)\n",
      "Requirement already satisfied: importlib-resources>=3.2.0 in c:\\users\\raviv\\appdata\\local\\packages\\pythonsoftwarefoundation.python.3.9_qbz5n2kfra8p0\\localcache\\local-packages\\python39\\site-packages (from matplotlib) (5.12.0)\n",
      "Requirement already satisfied: zipp>=3.1.0 in c:\\users\\raviv\\appdata\\local\\packages\\pythonsoftwarefoundation.python.3.9_qbz5n2kfra8p0\\localcache\\local-packages\\python39\\site-packages (from importlib-resources>=3.2.0->matplotlib) (3.15.0)\n",
      "Requirement already satisfied: six>=1.5 in c:\\users\\raviv\\appdata\\local\\packages\\pythonsoftwarefoundation.python.3.9_qbz5n2kfra8p0\\localcache\\local-packages\\python39\\site-packages (from python-dateutil>=2.7->matplotlib) (1.16.0)\n",
      "Note: you may need to restart the kernel to use updated packages.\n"
     ]
    },
    {
     "name": "stderr",
     "output_type": "stream",
     "text": [
      "WARNING: You are using pip version 22.0.4; however, version 24.0 is available.\n",
      "You should consider upgrading via the 'C:\\Users\\Raviv\\AppData\\Local\\Microsoft\\WindowsApps\\PythonSoftwareFoundation.Python.3.9_qbz5n2kfra8p0\\python.exe -m pip install --upgrade pip' command.\n"
     ]
    },
    {
     "name": "stdout",
     "output_type": "stream",
     "text": [
      "Note: you may need to restart the kernel to use updated packages.\n",
      "Requirement already satisfied: scikit-learn in c:\\users\\raviv\\appdata\\local\\packages\\pythonsoftwarefoundation.python.3.9_qbz5n2kfra8p0\\localcache\\local-packages\\python39\\site-packages (1.4.2)\n",
      "Requirement already satisfied: joblib>=1.2.0 in c:\\users\\raviv\\appdata\\local\\packages\\pythonsoftwarefoundation.python.3.9_qbz5n2kfra8p0\\localcache\\local-packages\\python39\\site-packages (from scikit-learn) (1.4.0)\n",
      "Requirement already satisfied: scipy>=1.6.0 in c:\\users\\raviv\\appdata\\local\\packages\\pythonsoftwarefoundation.python.3.9_qbz5n2kfra8p0\\localcache\\local-packages\\python39\\site-packages (from scikit-learn) (1.13.0)\n",
      "Requirement already satisfied: threadpoolctl>=2.0.0 in c:\\users\\raviv\\appdata\\local\\packages\\pythonsoftwarefoundation.python.3.9_qbz5n2kfra8p0\\localcache\\local-packages\\python39\\site-packages (from scikit-learn) (3.4.0)\n",
      "Requirement already satisfied: numpy>=1.19.5 in c:\\users\\raviv\\appdata\\local\\packages\\pythonsoftwarefoundation.python.3.9_qbz5n2kfra8p0\\localcache\\local-packages\\python39\\site-packages (from scikit-learn) (1.24.3)\n"
     ]
    },
    {
     "name": "stderr",
     "output_type": "stream",
     "text": [
      "WARNING: You are using pip version 22.0.4; however, version 24.0 is available.\n",
      "You should consider upgrading via the 'C:\\Users\\Raviv\\AppData\\Local\\Microsoft\\WindowsApps\\PythonSoftwareFoundation.Python.3.9_qbz5n2kfra8p0\\python.exe -m pip install --upgrade pip' command.\n"
     ]
    },
    {
     "name": "stdout",
     "output_type": "stream",
     "text": [
      "Requirement already satisfied: pillow in c:\\users\\raviv\\appdata\\local\\packages\\pythonsoftwarefoundation.python.3.9_qbz5n2kfra8p0\\localcache\\local-packages\\python39\\site-packages (9.5.0)\n",
      "Note: you may need to restart the kernel to use updated packages.\n"
     ]
    },
    {
     "name": "stderr",
     "output_type": "stream",
     "text": [
      "WARNING: You are using pip version 22.0.4; however, version 24.0 is available.\n",
      "You should consider upgrading via the 'C:\\Users\\Raviv\\AppData\\Local\\Microsoft\\WindowsApps\\PythonSoftwareFoundation.Python.3.9_qbz5n2kfra8p0\\python.exe -m pip install --upgrade pip' command.\n"
     ]
    },
    {
     "name": "stdout",
     "output_type": "stream",
     "text": [
      "Requirement already satisfied: seaborn in c:\\users\\raviv\\appdata\\local\\packages\\pythonsoftwarefoundation.python.3.9_qbz5n2kfra8p0\\localcache\\local-packages\\python39\\site-packages (0.13.2)\n",
      "Requirement already satisfied: pandas>=1.2 in c:\\users\\raviv\\appdata\\local\\packages\\pythonsoftwarefoundation.python.3.9_qbz5n2kfra8p0\\localcache\\local-packages\\python39\\site-packages (from seaborn) (2.0.1)\n",
      "Requirement already satisfied: numpy!=1.24.0,>=1.20 in c:\\users\\raviv\\appdata\\local\\packages\\pythonsoftwarefoundation.python.3.9_qbz5n2kfra8p0\\localcache\\local-packages\\python39\\site-packages (from seaborn) (1.24.3)\n",
      "Requirement already satisfied: matplotlib!=3.6.1,>=3.4 in c:\\users\\raviv\\appdata\\local\\packages\\pythonsoftwarefoundation.python.3.9_qbz5n2kfra8p0\\localcache\\local-packages\\python39\\site-packages (from seaborn) (3.7.1)\n",
      "Requirement already satisfied: pillow>=6.2.0 in c:\\users\\raviv\\appdata\\local\\packages\\pythonsoftwarefoundation.python.3.9_qbz5n2kfra8p0\\localcache\\local-packages\\python39\\site-packages (from matplotlib!=3.6.1,>=3.4->seaborn) (9.5.0)\n",
      "Requirement already satisfied: pyparsing>=2.3.1 in c:\\users\\raviv\\appdata\\local\\packages\\pythonsoftwarefoundation.python.3.9_qbz5n2kfra8p0\\localcache\\local-packages\\python39\\site-packages (from matplotlib!=3.6.1,>=3.4->seaborn) (3.0.9)\n",
      "Requirement already satisfied: packaging>=20.0 in c:\\users\\raviv\\appdata\\local\\packages\\pythonsoftwarefoundation.python.3.9_qbz5n2kfra8p0\\localcache\\local-packages\\python39\\site-packages (from matplotlib!=3.6.1,>=3.4->seaborn) (23.1)\n",
      "Requirement already satisfied: contourpy>=1.0.1 in c:\\users\\raviv\\appdata\\local\\packages\\pythonsoftwarefoundation.python.3.9_qbz5n2kfra8p0\\localcache\\local-packages\\python39\\site-packages (from matplotlib!=3.6.1,>=3.4->seaborn) (1.0.7)\n",
      "Requirement already satisfied: kiwisolver>=1.0.1 in c:\\users\\raviv\\appdata\\local\\packages\\pythonsoftwarefoundation.python.3.9_qbz5n2kfra8p0\\localcache\\local-packages\\python39\\site-packages (from matplotlib!=3.6.1,>=3.4->seaborn) (1.4.4)\n",
      "Requirement already satisfied: cycler>=0.10 in c:\\users\\raviv\\appdata\\local\\packages\\pythonsoftwarefoundation.python.3.9_qbz5n2kfra8p0\\localcache\\local-packages\\python39\\site-packages (from matplotlib!=3.6.1,>=3.4->seaborn) (0.11.0)\n",
      "Requirement already satisfied: fonttools>=4.22.0 in c:\\users\\raviv\\appdata\\local\\packages\\pythonsoftwarefoundation.python.3.9_qbz5n2kfra8p0\\localcache\\local-packages\\python39\\site-packages (from matplotlib!=3.6.1,>=3.4->seaborn) (4.39.4)\n",
      "Requirement already satisfied: python-dateutil>=2.7 in c:\\users\\raviv\\appdata\\local\\packages\\pythonsoftwarefoundation.python.3.9_qbz5n2kfra8p0\\localcache\\local-packages\\python39\\site-packages (from matplotlib!=3.6.1,>=3.4->seaborn) (2.8.2)\n",
      "Requirement already satisfied: importlib-resources>=3.2.0 in c:\\users\\raviv\\appdata\\local\\packages\\pythonsoftwarefoundation.python.3.9_qbz5n2kfra8p0\\localcache\\local-packages\\python39\\site-packages (from matplotlib!=3.6.1,>=3.4->seaborn) (5.12.0)\n",
      "Requirement already satisfied: tzdata>=2022.1 in c:\\users\\raviv\\appdata\\local\\packages\\pythonsoftwarefoundation.python.3.9_qbz5n2kfra8p0\\localcache\\local-packages\\python39\\site-packages (from pandas>=1.2->seaborn) (2023.3)\n",
      "Requirement already satisfied: pytz>=2020.1 in c:\\users\\raviv\\appdata\\local\\packages\\pythonsoftwarefoundation.python.3.9_qbz5n2kfra8p0\\localcache\\local-packages\\python39\\site-packages (from pandas>=1.2->seaborn) (2023.3)\n",
      "Requirement already satisfied: zipp>=3.1.0 in c:\\users\\raviv\\appdata\\local\\packages\\pythonsoftwarefoundation.python.3.9_qbz5n2kfra8p0\\localcache\\local-packages\\python39\\site-packages (from importlib-resources>=3.2.0->matplotlib!=3.6.1,>=3.4->seaborn) (3.15.0)\n",
      "Requirement already satisfied: six>=1.5 in c:\\users\\raviv\\appdata\\local\\packages\\pythonsoftwarefoundation.python.3.9_qbz5n2kfra8p0\\localcache\\local-packages\\python39\\site-packages (from python-dateutil>=2.7->matplotlib!=3.6.1,>=3.4->seaborn) (1.16.0)\n",
      "Note: you may need to restart the kernel to use updated packages.\n"
     ]
    },
    {
     "name": "stderr",
     "output_type": "stream",
     "text": [
      "WARNING: You are using pip version 22.0.4; however, version 24.0 is available.\n",
      "You should consider upgrading via the 'C:\\Users\\Raviv\\AppData\\Local\\Microsoft\\WindowsApps\\PythonSoftwareFoundation.Python.3.9_qbz5n2kfra8p0\\python.exe -m pip install --upgrade pip' command.\n"
     ]
    }
   ],
   "source": [
    "%pip install keras\n",
    "%pip install tensorflow\n",
    "%pip install matplotlib\n",
    "%pip install scikit-learn\n",
    "%pip install pillow\n",
    "%pip install seaborn"
   ]
  },
  {
   "cell_type": "markdown",
   "metadata": {},
   "source": [
    "## Imports\n"
   ]
  },
  {
   "cell_type": "code",
   "execution_count": 26,
   "metadata": {},
   "outputs": [],
   "source": [
    "import os\n",
    "import keras\n",
    "import random\n",
    "import numpy as np\n",
    "import tensorflow as tf\n",
    "from os import path\n",
    "from matplotlib import pyplot as plt\n",
    "from keras import layers\n",
    "from keras.layers import RandomBrightness, RandomRotation, RandomZoom, RandomContrast\n",
    "from keras.callbacks import EarlyStopping\n",
    "from utils import load_data, add_samples_to_validation, shuffle_dataset"
   ]
  },
  {
   "cell_type": "markdown",
   "metadata": {},
   "source": [
    "## Loading the data"
   ]
  },
  {
   "cell_type": "code",
   "execution_count": 13,
   "metadata": {},
   "outputs": [],
   "source": [
    "all_labels = ['NORMAL', 'bacteria', 'virus']\n",
    "#base_dir = \"/Users/neriya.shulman/content/chest_xray\"\n",
    "base_dir = os.path.join(os.getcwd(), \"chest_xray\")"
   ]
  },
  {
   "cell_type": "code",
   "execution_count": 14,
   "metadata": {},
   "outputs": [
    {
     "name": "stdout",
     "output_type": "stream",
     "text": [
      "Image size:  150 x 150\n"
     ]
    }
   ],
   "source": [
    "img_height = 150\n",
    "img_width = 150\n",
    "print(\"Image size: \", img_height, \"x\", img_width)"
   ]
  },
  {
   "cell_type": "code",
   "execution_count": 15,
   "metadata": {},
   "outputs": [],
   "source": [
    "from keras.preprocessing.image import load_img, img_to_array\n",
    "from keras.utils import to_categorical"
   ]
  },
  {
   "cell_type": "code",
   "execution_count": 16,
   "metadata": {},
   "outputs": [],
   "source": [
    "def get_label(dir_name, file_name, file_labels=[]):\n",
    "    for label in file_labels:\n",
    "        if label in file_name:\n",
    "            return label\n",
    "    return dir_name\n",
    "\n",
    "def load_data_from_path(base_dir, img_height, img_width, file_labels=[]):\n",
    "    dataset = []\n",
    "    labels = []\n",
    "    img_size = (img_height, img_width)\n",
    "    dir_names = os.path.basename(base_dir)\n",
    "    for file in os.scandir(base_dir):\n",
    "        if file.name == '.DS_Store':\n",
    "            continue\n",
    "        if file.is_dir():\n",
    "            dir_images, dir_labels = load_data_from_path(file.path, img_height, img_width, file_labels)\n",
    "            dataset.extend(dir_images)\n",
    "            labels.extend(dir_labels)\n",
    "        else:\n",
    "            img = img_to_array(load_img(file.path, target_size=img_size, color_mode='grayscale'))\n",
    "            dataset.append(img)\n",
    "            labels.append(get_label(dir_names, file.name, file_labels))\n",
    "    dataset = np.array(dataset, dtype='float32')\n",
    "    labels = np.array(labels)\n",
    "    return dataset, labels\n",
    "\n",
    "def load_data(path, img_height, img_width, all_labels, file_labels=[]):\n",
    "    dataset, labels = load_data_from_path(path, img_height, img_width, file_labels)\n",
    "    dataset /= 255 # rescale to be between 0 and 1\n",
    "    labels = np.array([all_labels.index(label) for label in labels]) # one-hot encoding\n",
    "    if len(all_labels) > 2:\n",
    "        labels = to_categorical(labels, len(all_labels))\n",
    "    else:\n",
    "        labels = np.expand_dims(labels, -1)\n",
    "    return dataset, labels\n",
    "\n",
    "def shuffle_dataset(dataset, labels):\n",
    "    indices = np.arange(dataset.shape[0])\n",
    "    np.random.shuffle(indices)\n",
    "    return dataset[indices], labels[indices]"
   ]
  },
  {
   "cell_type": "code",
   "execution_count": 17,
   "metadata": {},
   "outputs": [],
   "source": [
    "def balance_data(normal_data, pneum_data):\n",
    "    multiply_by = round(len(pneum_data) / len(normal_data))\n",
    "    return np.concatenate([normal_data for _ in range(multiply_by)], axis=0)\n",
    "\n",
    "def get_balanced_data(base_dir, file_labels=[]):\n",
    "    normal_train_set, normal_train_labels = load_data(path.join(base_dir, \"NORMAL\"), img_height, img_width, all_labels)\n",
    "    pneum_train_set, pneum_train_labels = load_data(path.join(base_dir, \"PNEUMONIA\"), img_height, img_width, all_labels, file_labels=file_labels)\n",
    "    normal_train_set = balance_data(normal_train_set, pneum_train_set)\n",
    "    normal_train_labels = balance_data(normal_train_labels, pneum_train_labels)\n",
    "    \n",
    "    train_set = np.concatenate([normal_train_set, pneum_train_set], axis=0)\n",
    "    train_labels = np.concatenate([normal_train_labels, pneum_train_labels], axis=0)\n",
    "    return train_set, train_labels"
   ]
  },
  {
   "cell_type": "code",
   "execution_count": 18,
   "metadata": {},
   "outputs": [
    {
     "data": {
      "text/plain": [
       "((7098, 150, 150, 1), (7098, 3))"
      ]
     },
     "execution_count": 18,
     "metadata": {},
     "output_type": "execute_result"
    }
   ],
   "source": [
    "all_labels = ['NORMAL', 'bacteria', 'virus']\n",
    "train_path = os.path.join(base_dir, \"train\")\n",
    "train_set, train_labels = get_balanced_data(train_path, file_labels=['bacteria', 'virus'])\n",
    "train_set.shape, train_labels.shape"
   ]
  },
  {
   "cell_type": "code",
   "execution_count": 19,
   "metadata": {},
   "outputs": [
    {
     "data": {
      "text/plain": [
       "((416, 150, 150, 1), (416, 3))"
      ]
     },
     "execution_count": 19,
     "metadata": {},
     "output_type": "execute_result"
    }
   ],
   "source": [
    "val_path = path.join(base_dir, \"val/\")\n",
    "validation_set, validation_labels = load_data(val_path, img_height, img_width, all_labels, file_labels=['bacteria', 'virus'])\n",
    "validation_set.shape, validation_labels.shape"
   ]
  },
  {
   "cell_type": "code",
   "execution_count": 20,
   "metadata": {},
   "outputs": [
    {
     "data": {
      "text/plain": [
       "((624, 150, 150, 1), (624, 3))"
      ]
     },
     "execution_count": 20,
     "metadata": {},
     "output_type": "execute_result"
    }
   ],
   "source": [
    "test_path = path.join(base_dir, \"test/\")\n",
    "test_set, test_labels = load_data(test_path, img_height, img_width, all_labels, file_labels=['bacteria', 'virus'])\n",
    "test_set.shape, test_labels.shape"
   ]
  },
  {
   "cell_type": "code",
   "execution_count": 21,
   "metadata": {},
   "outputs": [
    {
     "name": "stdout",
     "output_type": "stream",
     "text": [
      "Number of classes:  3\n",
      "Number of total samples:  7098\n"
     ]
    }
   ],
   "source": [
    "print('Number of classes: ', len(all_labels))\n",
    "print('Number of total samples: ', len(train_set))"
   ]
  },
  {
   "cell_type": "code",
   "execution_count": 22,
   "metadata": {},
   "outputs": [],
   "source": [
    "#orig_train_set, orig_train_labels, train_file_names = load_data(path.join(base_dir, \"train\"), img_size, all_labels)\n",
    "#orig_validation_set, orig_validation_labels, _ = load_data(path.join(base_dir, \"val\"), img_size, all_labels)\n",
    "#test_set, test_labels, _ = load_data(path.join(base_dir, \"test\"), img_size, all_labels)"
   ]
  },
  {
   "cell_type": "markdown",
   "metadata": {},
   "source": [
    "## Data preprocessing"
   ]
  },
  {
   "cell_type": "markdown",
   "metadata": {},
   "source": [
    "Normalization"
   ]
  },
  {
   "cell_type": "code",
   "execution_count": 23,
   "metadata": {},
   "outputs": [],
   "source": [
    "#orig_train_set /= 255\n",
    "#orig_validation_set /= 255\n",
    "#test_set /= 255"
   ]
  },
  {
   "cell_type": "markdown",
   "metadata": {},
   "source": [
    "Increase validation set"
   ]
  },
  {
   "cell_type": "code",
   "execution_count": 24,
   "metadata": {},
   "outputs": [],
   "source": [
    "#print('validation set size before moving from the train: ', len(orig_validation_set))\n",
    "#\n",
    "#num_to_move = 200\n",
    "#normal_indexes = [i for i, label in enumerate(orig_train_labels.reshape(-1)) if label == 0]\n",
    "#bacteria_indexes = [i for i, file in enumerate(train_file_names.reshape(-1)) if 'bacteria' in file]\n",
    "#virus_indexes = [i for i, file in enumerate(train_file_names.reshape(-1)) if 'virus' in file]\n",
    "#\n",
    "#new_indexes = np.concatenate((normal_indexes[:num_to_move], bacteria_indexes[:num_to_move//2], virus_indexes[:num_to_move//2]), axis=0)\n",
    "#validation_set = np.concatenate((orig_validation_set, orig_train_set[new_indexes]), axis=0)\n",
    "#validation_labels = np.concatenate((orig_validation_labels, orig_train_labels[new_indexes]), axis=0)\n",
    "#\n",
    "#train_set = np.delete(orig_train_set, new_indexes, axis=0)\n",
    "#train_labels = np.delete(orig_train_labels, new_indexes, axis=0)\n",
    "#\n",
    "#print('validation set size after moving: ', len(validation_set))"
   ]
  },
  {
   "cell_type": "markdown",
   "metadata": {},
   "source": [
    "Balance the training data"
   ]
  },
  {
   "cell_type": "code",
   "execution_count": 27,
   "metadata": {},
   "outputs": [
    {
     "name": "stdout",
     "output_type": "stream",
     "text": [
      "Number of images in training set:  7098\n",
      "Number of Normal images:  3423\n",
      "Number of bacteria images:  2430\n",
      "Number of virus images:  1245\n",
      "Ratio between classes: 48:34:18\n"
     ]
    },
    {
     "data": {
      "image/png": "[encoded data removed]",
      "text/plain": [
       "<Figure size 640x480 with 1 Axes>"
      ]
     },
     "metadata": {},
     "output_type": "display_data"
    }
   ],
   "source": [
    "normal_train_data = train_set[train_labels[:, 0] == 1] \n",
    "bacteria_train_data = train_set[train_labels[:, 1] == 1]\n",
    "virus_train_data = train_set[train_labels[:, 2] == 1]\n",
    "\n",
    "print('Number of images in training set: ', len(train_set))\n",
    "print('Number of Normal images: ', len(normal_train_data))\n",
    "print('Number of bacteria images: ', len(bacteria_train_data))\n",
    "print('Number of virus images: ', len(virus_train_data))\n",
    "ratio_normal = round(len(normal_train_data)/len(train_set)*100)\n",
    "ratio_bacteria = round(len(bacteria_train_data)/len(train_set)*100)\n",
    "ratio_virus = round(len(virus_train_data)/len(train_set)*100)\n",
    "print(f'Ratio between classes: {ratio_normal}:{ratio_bacteria}:{ratio_virus}')\n",
    "\n",
    "arr = np.array([{(1., 0., 0.,):'NORMAL', (0., 1., 0.,):'bacteria', (0., 0., 1.,):'virus'}[tuple(x)] for x in train_labels])\n",
    "#print(arr)\n",
    "nc = len(set(arr)) \n",
    "plt.hist(arr, bins=3, rwidth=0.5)\n",
    "plt.ylabel('Number of images')\n",
    "plt.xticks(np.linspace(0, nc-1, 2*nc+1)[1::2], ['NORMAL', 'bacteria', 'virus'])\n",
    "plt.show()"
   ]
  },
  {
   "cell_type": "markdown",
   "metadata": {},
   "source": [
    "Shuffling"
   ]
  },
  {
   "cell_type": "code",
   "execution_count": 28,
   "metadata": {},
   "outputs": [],
   "source": [
    "def shuffle_dataset(dataset, labels):\n",
    "    indices = np.arange(dataset.shape[0])\n",
    "    np.random.shuffle(indices)\n",
    "    return dataset[indices], labels[indices]\n",
    "\n",
    "train_set, train_labels = shuffle_dataset(train_set, train_labels)"
   ]
  },
  {
   "cell_type": "markdown",
   "metadata": {},
   "source": [
    "## The model"
   ]
  },
  {
   "cell_type": "code",
   "execution_count": 29,
   "metadata": {},
   "outputs": [
    {
     "name": "stdout",
     "output_type": "stream",
     "text": [
      "Batch size:  64\n",
      "Number of training batches:  110\n"
     ]
    }
   ],
   "source": [
    "max_epochs = 50\n",
    "batch_size = 64\n",
    "learning_rate=0.001\n",
    "print(\"Batch size: \", batch_size)\n",
    "print('Number of training batches: ', len(train_set)//batch_size)"
   ]
  },
  {
   "cell_type": "code",
   "execution_count": null,
   "metadata": {},
   "outputs": [
    {
     "name": "stdout",
     "output_type": "stream",
     "text": [
      "Epoch 1/50\n",
      "\u001B[1m111/111\u001B[0m \u001B[32m━━━━━━━━━━━━━━━━━━━━\u001B[0m\u001B[37m\u001B[0m \u001B[1m204s\u001B[0m 2s/step - accuracy: 0.4660 - loss: 1.0470 - precision: 0.5348 - recall: 0.1254 - val_accuracy: 0.5649 - val_loss: 1.0812 - val_precision: 0.7487 - val_recall: 0.3582\n",
      "Epoch 2/50\n",
      "\u001B[1m111/111\u001B[0m \u001B[32m━━━━━━━━━━━━━━━━━━━━\u001B[0m\u001B[37m\u001B[0m \u001B[1m202s\u001B[0m 2s/step - accuracy: 0.5928 - loss: 0.8974 - precision: 0.7569 - recall: 0.3821 - val_accuracy: 0.6298 - val_loss: 1.2757 - val_precision: 0.6511 - val_recall: 0.5697\n",
      "Epoch 3/50\n",
      "\u001B[1m111/111\u001B[0m \u001B[32m━━━━━━━━━━━━━━━━━━━━\u001B[0m\u001B[37m\u001B[0m \u001B[1m192s\u001B[0m 2s/step - accuracy: 0.7474 - loss: 0.6202 - precision: 0.7859 - recall: 0.6826 - val_accuracy: 0.6851 - val_loss: 0.8502 - val_precision: 0.7106 - val_recall: 0.6611\n",
      "Epoch 4/50\n",
      "\u001B[1m111/111\u001B[0m \u001B[32m━━━━━━━━━━━━━━━━━━━━\u001B[0m\u001B[37m\u001B[0m \u001B[1m184s\u001B[0m 2s/step - accuracy: 0.7713 - loss: 0.5570 - precision: 0.7969 - recall: 0.7346 - val_accuracy: 0.6875 - val_loss: 0.7508 - val_precision: 0.7255 - val_recall: 0.6418\n",
      "Epoch 5/50\n",
      "\u001B[1m111/111\u001B[0m \u001B[32m━━━━━━━━━━━━━━━━━━━━\u001B[0m\u001B[37m\u001B[0m \u001B[1m188s\u001B[0m 2s/step - accuracy: 0.7745 - loss: 0.5246 - precision: 0.8140 - recall: 0.7325 - val_accuracy: 0.7212 - val_loss: 0.7563 - val_precision: 0.7479 - val_recall: 0.6562\n",
      "Epoch 6/50\n",
      "\u001B[1m111/111\u001B[0m \u001B[32m━━━━━━━━━━━━━━━━━━━━\u001B[0m\u001B[37m\u001B[0m \u001B[1m189s\u001B[0m 2s/step - accuracy: 0.7765 - loss: 0.5405 - precision: 0.8157 - recall: 0.7214 - val_accuracy: 0.7284 - val_loss: 0.5769 - val_precision: 0.7534 - val_recall: 0.6683\n",
      "Epoch 7/50\n",
      "\u001B[1m111/111\u001B[0m \u001B[32m━━━━━━━━━━━━━━━━━━━━\u001B[0m\u001B[37m\u001B[0m \u001B[1m193s\u001B[0m 2s/step - accuracy: 0.7827 - loss: 0.4985 - precision: 0.8266 - recall: 0.7341 - val_accuracy: 0.7476 - val_loss: 0.6622 - val_precision: 0.7743 - val_recall: 0.7091\n",
      "Epoch 8/50\n",
      "\u001B[1m111/111\u001B[0m \u001B[32m━━━━━━━━━━━━━━━━━━━━\u001B[0m\u001B[37m\u001B[0m \u001B[1m191s\u001B[0m 2s/step - accuracy: 0.7997 - loss: 0.4939 - precision: 0.8289 - recall: 0.7593 - val_accuracy: 0.7716 - val_loss: 0.6257 - val_precision: 0.8000 - val_recall: 0.7500\n",
      "Epoch 9/50\n",
      "\u001B[1m111/111\u001B[0m \u001B[32m━━━━━━━━━━━━━━━━━━━━\u001B[0m\u001B[37m\u001B[0m \u001B[1m197s\u001B[0m 2s/step - accuracy: 0.8062 - loss: 0.4745 - precision: 0.8343 - recall: 0.7692 - val_accuracy: 0.8077 - val_loss: 0.5308 - val_precision: 0.8333 - val_recall: 0.7692\n",
      "Epoch 10/50\n",
      "\u001B[1m111/111\u001B[0m \u001B[32m━━━━━━━━━━━━━━━━━━━━\u001B[0m\u001B[37m\u001B[0m \u001B[1m190s\u001B[0m 2s/step - accuracy: 0.8129 - loss: 0.4568 - precision: 0.8396 - recall: 0.7865 - val_accuracy: 0.7212 - val_loss: 0.6167 - val_precision: 0.7598 - val_recall: 0.6995\n",
      "Epoch 11/50\n",
      "\u001B[1m111/111\u001B[0m \u001B[32m━━━━━━━━━━━━━━━━━━━━\u001B[0m\u001B[37m\u001B[0m \u001B[1m189s\u001B[0m 2s/step - accuracy: 0.8280 - loss: 0.4110 - precision: 0.8495 - recall: 0.8057 - val_accuracy: 0.7284 - val_loss: 0.6025 - val_precision: 0.7531 - val_recall: 0.7188\n",
      "Epoch 12/50\n",
      "\u001B[1m111/111\u001B[0m \u001B[32m━━━━━━━━━━━━━━━━━━━━\u001B[0m\u001B[37m\u001B[0m \u001B[1m187s\u001B[0m 2s/step - accuracy: 0.8236 - loss: 0.4355 - precision: 0.8443 - recall: 0.7937 - val_accuracy: 0.7933 - val_loss: 0.5091 - val_precision: 0.8144 - val_recall: 0.7596\n",
      "Epoch 13/50\n",
      "\u001B[1m111/111\u001B[0m \u001B[32m━━━━━━━━━━━━━━━━━━━━\u001B[0m\u001B[37m\u001B[0m \u001B[1m200s\u001B[0m 2s/step - accuracy: 0.8199 - loss: 0.4348 - precision: 0.8368 - recall: 0.8002 - val_accuracy: 0.7692 - val_loss: 0.6708 - val_precision: 0.7949 - val_recall: 0.6803\n",
      "Epoch 14/50\n",
      "\u001B[1m111/111\u001B[0m \u001B[32m━━━━━━━━━━━━━━━━━━━━\u001B[0m\u001B[37m\u001B[0m \u001B[1m185s\u001B[0m 2s/step - accuracy: 0.8366 - loss: 0.4197 - precision: 0.8510 - recall: 0.8088 - val_accuracy: 0.8221 - val_loss: 0.5221 - val_precision: 0.8392 - val_recall: 0.8029\n",
      "Epoch 15/50\n",
      "\u001B[1m111/111\u001B[0m \u001B[32m━━━━━━━━━━━━━━━━━━━━\u001B[0m\u001B[37m\u001B[0m \u001B[1m184s\u001B[0m 2s/step - accuracy: 0.8251 - loss: 0.4335 - precision: 0.8455 - recall: 0.7980 - val_accuracy: 0.7764 - val_loss: 0.5153 - val_precision: 0.7940 - val_recall: 0.7596\n",
      "Epoch 16/50\n",
      "\u001B[1m111/111\u001B[0m \u001B[32m━━━━━━━━━━━━━━━━━━━━\u001B[0m\u001B[37m\u001B[0m \u001B[1m192s\u001B[0m 2s/step - accuracy: 0.8287 - loss: 0.4175 - precision: 0.8486 - recall: 0.8044 - val_accuracy: 0.8101 - val_loss: 0.5194 - val_precision: 0.8212 - val_recall: 0.7837\n",
      "Epoch 17/50\n",
      "\u001B[1m111/111\u001B[0m \u001B[32m━━━━━━━━━━━━━━━━━━━━\u001B[0m\u001B[37m\u001B[0m \u001B[1m198s\u001B[0m 2s/step - accuracy: 0.8339 - loss: 0.3984 - precision: 0.8467 - recall: 0.8156 - val_accuracy: 0.8293 - val_loss: 0.4618 - val_precision: 0.8405 - val_recall: 0.7981\n",
      "Epoch 18/50\n",
      "\u001B[1m 84/111\u001B[0m \u001B[32m━━━━━━━━━━━━━━━\u001B[0m\u001B[37m━━━━━\u001B[0m \u001B[1m46s\u001B[0m 2s/step - accuracy: 0.8287 - loss: 0.4089 - precision: 0.8496 - recall: 0.8083"
     ]
    }
   ],
   "source": [
    "model = keras.Sequential(\n",
    "    [\n",
    "        keras.Input(shape=(img_height, img_width, 1)),\n",
    "        RandomRotation(0.35),\n",
    "        RandomZoom(0.1),\n",
    "        RandomBrightness(0.02, value_range=(0,1)),\n",
    "        RandomContrast(0.02),\n",
    "\n",
    "        layers.Conv2D(64, (3, 3), activation='relu', padding='same'),\n",
    "        layers.MaxPooling2D(pool_size=(2, 2)),\n",
    "        layers.Conv2D(128, (3, 3), activation='relu', padding='same'),\n",
    "        layers.MaxPooling2D(pool_size=(2, 2)),\n",
    "        layers.Conv2D(256, (3, 3), activation='relu', padding='same'),\n",
    "        layers.MaxPooling2D(pool_size=(2, 2)),\n",
    "        layers.Conv2D(512, (3, 3), activation='relu', padding='same'),\n",
    "        layers.MaxPooling2D(pool_size=(2, 2)),\n",
    "        layers.Conv2D(1024, (3, 3), activation='relu', padding='same'),\n",
    "        layers.MaxPooling2D(pool_size=(2, 2)),\n",
    "\n",
    "        layers.Flatten(name='flatten'),\n",
    "        layers.Dense(units=1024, activation='relu'),\n",
    "        layers.Dense(units=526, activation='relu'),\n",
    "        layers.Dropout(0.25),\n",
    "        layers.Dense(units=256, activation='relu'),\n",
    "        layers.Dense(units=128, activation='relu'),\n",
    "        layers.Dropout(0.5),\n",
    "        layers.Dense(len(all_labels), activation='softmax'),\n",
    "    ]\n",
    ")\n",
    "\n",
    "model.compile(loss=\"categorical_crossentropy\", optimizer=\"adam\", metrics=[\"accuracy\", \"recall\", \"precision\"])\n",
    "early_stopping = EarlyStopping(monitor='val_loss', patience=5, verbose=1)\n",
    "history = model.fit(train_set, train_labels, epochs=max_epochs, batch_size=batch_size,\n",
    "        validation_data=(validation_set, validation_labels), callbacks=[early_stopping])\n"
   ]
  },
  {
   "cell_type": "code",
   "execution_count": null,
   "metadata": {},
   "outputs": [],
   "source": [
    "print(model.summary())"
   ]
  },
  {
   "cell_type": "markdown",
   "metadata": {},
   "source": [
    "Show the metrics of the model"
   ]
  },
  {
   "cell_type": "code",
   "execution_count": null,
   "metadata": {},
   "outputs": [],
   "source": [
    "score = model.evaluate(test_set, test_labels, batch_size=batch_size)\n",
    "print(\"Test loss:\", score[0])\n",
    "print(\"Test accuracy:\", score[1])\n",
    "print(\"Test recall:\", score[2])\n",
    "print(\"Test precision:\", score[3])\n"
   ]
  },
  {
   "cell_type": "code",
   "execution_count": null,
   "metadata": {},
   "outputs": [],
   "source": [
    "model.save('model_q1_b.keras')"
   ]
  },
  {
   "cell_type": "code",
   "execution_count": null,
   "metadata": {},
   "outputs": [],
   "source": [
    "# result = model.predict(test_set)\n",
    "# pred_test_labels = np.where(result > 0.5, 1, 0)\n",
    "# conf_matrix = confusion_matrix(test_labels.squeeze(), pred_test_labels.squeeze())\n",
    "\n",
    "# plt.figure(figsize=(6, 4))\n",
    "# sns.heatmap(conf_matrix, annot=True, fmt='d', cmap='Blues', cbar=False, xticklabels=['Normal', 'Pneumonia'], yticklabels=['Normal', 'Pneumonia'])\n",
    "# plt.xlabel('Predicted label')\n",
    "# plt.ylabel('True label')\n",
    "# plt.title('Confusion Matrix')\n",
    "# plt.show()"
   ]
  },
  {
   "cell_type": "markdown",
   "metadata": {},
   "source": [
    "save the model"
   ]
  }
 ],
 "metadata": {
  "kernelspec": {
   "display_name": "Python 3 (ipykernel)",
   "language": "python",
   "name": "python3"
  },
  "language_info": {
   "codemirror_mode": {
    "name": "ipython",
    "version": 3
   },
   "file_extension": ".py",
   "mimetype": "text/x-python",
   "name": "python",
   "nbconvert_exporter": "python",
   "pygments_lexer": "ipython3",
   "version": "3.9.13"
  }
 },
 "nbformat": 4,
 "nbformat_minor": 4
}
