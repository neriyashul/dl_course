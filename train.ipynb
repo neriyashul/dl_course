{
 "cells": [
  {
   "cell_type": "markdown",
   "metadata": {},
   "source": [
    "## General"
   ]
  },
  {
   "cell_type": "markdown",
   "metadata": {},
   "source": [
    "### Installs"
   ]
  },
  {
   "cell_type": "code",
   "execution_count": null,
   "metadata": {
    "vscode": {
     "languageId": "shellscript"
    }
   },
   "outputs": [
    {
     "name": "stdout",
     "output_type": "stream",
     "text": [
      "Requirement already satisfied: keras in ./venv/lib/python3.11/site-packages (3.2.1)\n",
      "Requirement already satisfied: absl-py in ./venv/lib/python3.11/site-packages (from keras) (2.1.0)\n",
      "Requirement already satisfied: numpy in ./venv/lib/python3.11/site-packages (from keras) (1.26.4)\n",
      "Requirement already satisfied: rich in ./venv/lib/python3.11/site-packages (from keras) (13.7.1)\n",
      "Requirement already satisfied: namex in ./venv/lib/python3.11/site-packages (from keras) (0.0.7)\n",
      "Requirement already satisfied: h5py in ./venv/lib/python3.11/site-packages (from keras) (3.11.0)\n",
      "Requirement already satisfied: optree in ./venv/lib/python3.11/site-packages (from keras) (0.11.0)\n",
      "Requirement already satisfied: ml-dtypes in ./venv/lib/python3.11/site-packages (from keras) (0.3.2)\n",
      "Requirement already satisfied: typing-extensions>=4.0.0 in ./venv/lib/python3.11/site-packages (from optree->keras) (4.11.0)\n",
      "Requirement already satisfied: markdown-it-py>=2.2.0 in ./venv/lib/python3.11/site-packages (from rich->keras) (3.0.0)\n",
      "Requirement already satisfied: pygments<3.0.0,>=2.13.0 in ./venv/lib/python3.11/site-packages (from rich->keras) (2.17.2)\n",
      "Requirement already satisfied: mdurl~=0.1 in ./venv/lib/python3.11/site-packages (from markdown-it-py>=2.2.0->rich->keras) (0.1.2)\n",
      "Note: you may need to restart the kernel to use updated packages.\n",
      "Requirement already satisfied: tensorflow in ./venv/lib/python3.11/site-packages (2.16.1)\n",
      "Requirement already satisfied: absl-py>=1.0.0 in ./venv/lib/python3.11/site-packages (from tensorflow) (2.1.0)\n",
      "Requirement already satisfied: astunparse>=1.6.0 in ./venv/lib/python3.11/site-packages (from tensorflow) (1.6.3)\n",
      "Requirement already satisfied: flatbuffers>=23.5.26 in ./venv/lib/python3.11/site-packages (from tensorflow) (24.3.25)\n",
      "Requirement already satisfied: gast!=0.5.0,!=0.5.1,!=0.5.2,>=0.2.1 in ./venv/lib/python3.11/site-packages (from tensorflow) (0.5.4)\n",
      "Requirement already satisfied: google-pasta>=0.1.1 in ./venv/lib/python3.11/site-packages (from tensorflow) (0.2.0)\n",
      "Requirement already satisfied: h5py>=3.10.0 in ./venv/lib/python3.11/site-packages (from tensorflow) (3.11.0)\n",
      "Requirement already satisfied: libclang>=13.0.0 in ./venv/lib/python3.11/site-packages (from tensorflow) (18.1.1)\n",
      "Requirement already satisfied: ml-dtypes~=0.3.1 in ./venv/lib/python3.11/site-packages (from tensorflow) (0.3.2)\n",
      "Requirement already satisfied: opt-einsum>=2.3.2 in ./venv/lib/python3.11/site-packages (from tensorflow) (3.3.0)\n",
      "Requirement already satisfied: packaging in ./venv/lib/python3.11/site-packages (from tensorflow) (24.0)\n",
      "Requirement already satisfied: protobuf!=4.21.0,!=4.21.1,!=4.21.2,!=4.21.3,!=4.21.4,!=4.21.5,<5.0.0dev,>=3.20.3 in ./venv/lib/python3.11/site-packages (from tensorflow) (4.25.3)\n",
      "Requirement already satisfied: requests<3,>=2.21.0 in ./venv/lib/python3.11/site-packages (from tensorflow) (2.31.0)\n",
      "Requirement already satisfied: setuptools in ./venv/lib/python3.11/site-packages (from tensorflow) (69.2.0)\n",
      "Requirement already satisfied: six>=1.12.0 in ./venv/lib/python3.11/site-packages (from tensorflow) (1.16.0)\n",
      "Requirement already satisfied: termcolor>=1.1.0 in ./venv/lib/python3.11/site-packages (from tensorflow) (2.4.0)\n",
      "Requirement already satisfied: typing-extensions>=3.6.6 in ./venv/lib/python3.11/site-packages (from tensorflow) (4.11.0)\n",
      "Requirement already satisfied: wrapt>=1.11.0 in ./venv/lib/python3.11/site-packages (from tensorflow) (1.16.0)\n",
      "Requirement already satisfied: grpcio<2.0,>=1.24.3 in ./venv/lib/python3.11/site-packages (from tensorflow) (1.62.1)\n",
      "Requirement already satisfied: tensorboard<2.17,>=2.16 in ./venv/lib/python3.11/site-packages (from tensorflow) (2.16.2)\n",
      "Requirement already satisfied: keras>=3.0.0 in ./venv/lib/python3.11/site-packages (from tensorflow) (3.2.1)\n",
      "Requirement already satisfied: tensorflow-io-gcs-filesystem>=0.23.1 in ./venv/lib/python3.11/site-packages (from tensorflow) (0.36.0)\n",
      "Requirement already satisfied: numpy<2.0.0,>=1.23.5 in ./venv/lib/python3.11/site-packages (from tensorflow) (1.26.4)\n",
      "Requirement already satisfied: wheel<1.0,>=0.23.0 in ./venv/lib/python3.11/site-packages (from astunparse>=1.6.0->tensorflow) (0.43.0)\n",
      "Requirement already satisfied: rich in ./venv/lib/python3.11/site-packages (from keras>=3.0.0->tensorflow) (13.7.1)\n",
      "Requirement already satisfied: namex in ./venv/lib/python3.11/site-packages (from keras>=3.0.0->tensorflow) (0.0.7)\n",
      "Requirement already satisfied: optree in ./venv/lib/python3.11/site-packages (from keras>=3.0.0->tensorflow) (0.11.0)\n",
      "Requirement already satisfied: charset-normalizer<4,>=2 in ./venv/lib/python3.11/site-packages (from requests<3,>=2.21.0->tensorflow) (3.3.2)\n",
      "Requirement already satisfied: idna<4,>=2.5 in ./venv/lib/python3.11/site-packages (from requests<3,>=2.21.0->tensorflow) (3.7)\n",
      "Requirement already satisfied: urllib3<3,>=1.21.1 in ./venv/lib/python3.11/site-packages (from requests<3,>=2.21.0->tensorflow) (2.2.1)\n",
      "Requirement already satisfied: certifi>=2017.4.17 in ./venv/lib/python3.11/site-packages (from requests<3,>=2.21.0->tensorflow) (2024.2.2)\n",
      "Requirement already satisfied: markdown>=2.6.8 in ./venv/lib/python3.11/site-packages (from tensorboard<2.17,>=2.16->tensorflow) (3.6)\n",
      "Requirement already satisfied: tensorboard-data-server<0.8.0,>=0.7.0 in ./venv/lib/python3.11/site-packages (from tensorboard<2.17,>=2.16->tensorflow) (0.7.2)\n",
      "Requirement already satisfied: werkzeug>=1.0.1 in ./venv/lib/python3.11/site-packages (from tensorboard<2.17,>=2.16->tensorflow) (3.0.2)\n",
      "Requirement already satisfied: MarkupSafe>=2.1.1 in ./venv/lib/python3.11/site-packages (from werkzeug>=1.0.1->tensorboard<2.17,>=2.16->tensorflow) (2.1.5)\n",
      "Requirement already satisfied: markdown-it-py>=2.2.0 in ./venv/lib/python3.11/site-packages (from rich->keras>=3.0.0->tensorflow) (3.0.0)\n",
      "Requirement already satisfied: pygments<3.0.0,>=2.13.0 in ./venv/lib/python3.11/site-packages (from rich->keras>=3.0.0->tensorflow) (2.17.2)\n",
      "Requirement already satisfied: mdurl~=0.1 in ./venv/lib/python3.11/site-packages (from markdown-it-py>=2.2.0->rich->keras>=3.0.0->tensorflow) (0.1.2)\n",
      "Note: you may need to restart the kernel to use updated packages.\n",
      "Requirement already satisfied: matplotlib in ./venv/lib/python3.11/site-packages (3.8.4)\n",
      "Requirement already satisfied: contourpy>=1.0.1 in ./venv/lib/python3.11/site-packages (from matplotlib) (1.2.1)\n",
      "Requirement already satisfied: cycler>=0.10 in ./venv/lib/python3.11/site-packages (from matplotlib) (0.12.1)\n",
      "Requirement already satisfied: fonttools>=4.22.0 in ./venv/lib/python3.11/site-packages (from matplotlib) (4.51.0)\n",
      "Requirement already satisfied: kiwisolver>=1.3.1 in ./venv/lib/python3.11/site-packages (from matplotlib) (1.4.5)\n",
      "Requirement already satisfied: numpy>=1.21 in ./venv/lib/python3.11/site-packages (from matplotlib) (1.26.4)\n",
      "Requirement already satisfied: packaging>=20.0 in ./venv/lib/python3.11/site-packages (from matplotlib) (24.0)\n",
      "Requirement already satisfied: pillow>=8 in ./venv/lib/python3.11/site-packages (from matplotlib) (10.3.0)\n",
      "Requirement already satisfied: pyparsing>=2.3.1 in ./venv/lib/python3.11/site-packages (from matplotlib) (3.1.2)\n",
      "Requirement already satisfied: python-dateutil>=2.7 in ./venv/lib/python3.11/site-packages (from matplotlib) (2.9.0.post0)\n",
      "Requirement already satisfied: six>=1.5 in ./venv/lib/python3.11/site-packages (from python-dateutil>=2.7->matplotlib) (1.16.0)\n",
      "Note: you may need to restart the kernel to use updated packages.\n",
      "Requirement already satisfied: scikit-learn in ./venv/lib/python3.11/site-packages (1.4.2)\n",
      "Requirement already satisfied: numpy>=1.19.5 in ./venv/lib/python3.11/site-packages (from scikit-learn) (1.26.4)\n",
      "Requirement already satisfied: scipy>=1.6.0 in ./venv/lib/python3.11/site-packages (from scikit-learn) (1.13.0)\n",
      "Requirement already satisfied: joblib>=1.2.0 in ./venv/lib/python3.11/site-packages (from scikit-learn) (1.4.0)\n",
      "Requirement already satisfied: threadpoolctl>=2.0.0 in ./venv/lib/python3.11/site-packages (from scikit-learn) (3.4.0)\n",
      "Note: you may need to restart the kernel to use updated packages.\n",
      "Requirement already satisfied: pillow in ./venv/lib/python3.11/site-packages (10.3.0)\n",
      "Note: you may need to restart the kernel to use updated packages.\n",
      "Requirement already satisfied: seaborn in ./venv/lib/python3.11/site-packages (0.13.2)\n",
      "Requirement already satisfied: numpy!=1.24.0,>=1.20 in ./venv/lib/python3.11/site-packages (from seaborn) (1.26.4)\n",
      "Requirement already satisfied: pandas>=1.2 in ./venv/lib/python3.11/site-packages (from seaborn) (2.2.2)\n",
      "Requirement already satisfied: matplotlib!=3.6.1,>=3.4 in ./venv/lib/python3.11/site-packages (from seaborn) (3.8.4)\n",
      "Requirement already satisfied: contourpy>=1.0.1 in ./venv/lib/python3.11/site-packages (from matplotlib!=3.6.1,>=3.4->seaborn) (1.2.1)\n",
      "Requirement already satisfied: cycler>=0.10 in ./venv/lib/python3.11/site-packages (from matplotlib!=3.6.1,>=3.4->seaborn) (0.12.1)\n",
      "Requirement already satisfied: fonttools>=4.22.0 in ./venv/lib/python3.11/site-packages (from matplotlib!=3.6.1,>=3.4->seaborn) (4.51.0)\n",
      "Requirement already satisfied: kiwisolver>=1.3.1 in ./venv/lib/python3.11/site-packages (from matplotlib!=3.6.1,>=3.4->seaborn) (1.4.5)\n",
      "Requirement already satisfied: packaging>=20.0 in ./venv/lib/python3.11/site-packages (from matplotlib!=3.6.1,>=3.4->seaborn) (24.0)\n",
      "Requirement already satisfied: pillow>=8 in ./venv/lib/python3.11/site-packages (from matplotlib!=3.6.1,>=3.4->seaborn) (10.3.0)\n",
      "Requirement already satisfied: pyparsing>=2.3.1 in ./venv/lib/python3.11/site-packages (from matplotlib!=3.6.1,>=3.4->seaborn) (3.1.2)\n",
      "Requirement already satisfied: python-dateutil>=2.7 in ./venv/lib/python3.11/site-packages (from matplotlib!=3.6.1,>=3.4->seaborn) (2.9.0.post0)\n",
      "Requirement already satisfied: pytz>=2020.1 in ./venv/lib/python3.11/site-packages (from pandas>=1.2->seaborn) (2024.1)\n",
      "Requirement already satisfied: tzdata>=2022.7 in ./venv/lib/python3.11/site-packages (from pandas>=1.2->seaborn) (2024.1)\n",
      "Requirement already satisfied: six>=1.5 in ./venv/lib/python3.11/site-packages (from python-dateutil>=2.7->matplotlib!=3.6.1,>=3.4->seaborn) (1.16.0)\n",
      "Note: you may need to restart the kernel to use updated packages.\n"
     ]
    }
   ],
   "source": [
    "%pip install keras\n",
    "%pip install tensorflow\n",
    "%pip install matplotlib\n",
    "%pip install scikit-learn\n",
    "%pip install pillow\n",
    "%pip install seaborn"
   ]
  },
  {
   "cell_type": "markdown",
   "metadata": {},
   "source": [
    "### Imports\n"
   ]
  },
  {
   "cell_type": "code",
   "execution_count": 1,
   "metadata": {},
   "outputs": [],
   "source": [
    "import os\n",
    "import keras\n",
    "import random\n",
    "import shutil\n",
    "import numpy as np\n",
    "import seaborn as sns\n",
    "import tensorflow as tf\n",
    "\n",
    "from os import path\n",
    "from keras import layers\n",
    "from keras.optimizers import Adam\n",
    "from keras.models import Sequential\n",
    "from keras.utils import to_categorical\n",
    "from keras.callbacks import EarlyStopping\n",
    "from keras.preprocessing.image import load_img, img_to_array\n",
    "from keras.layers import Dense, RandomBrightness, RandomRotation, RandomZoom, RandomContrast, Conv2D, MaxPooling2D, Flatten, Dropout, Normalization, Conv2DTranspose\n",
    "from matplotlib import pyplot as plt\n",
    "from sklearn.manifold import TSNE\n",
    "from sklearn.neighbors import NearestNeighbors\n"
   ]
  },
  {
   "cell_type": "markdown",
   "metadata": {},
   "source": [
    "## Question 1 A"
   ]
  },
  {
   "cell_type": "code",
   "execution_count": 2,
   "metadata": {},
   "outputs": [],
   "source": [
    "# TODO: delete\n",
    "np.random.seed(42)\n",
    "random.seed(42)\n",
    "tf.random.set_seed(42)"
   ]
  },
  {
   "cell_type": "markdown",
   "metadata": {},
   "source": [
    "### Load the data"
   ]
  },
  {
   "cell_type": "code",
   "execution_count": 3,
   "metadata": {},
   "outputs": [],
   "source": [
    "all_labels = ['NORMAL', 'PNEUMONIA']\n",
    "# TODO: change it\n",
    "base_dir = \"/Users/neriya.shulman/content/chest_xray\"\n",
    "img_size = 250\n"
   ]
  },
  {
   "cell_type": "code",
   "execution_count": 4,
   "metadata": {},
   "outputs": [],
   "source": [
    "\n",
    "def load_data(base_dir, img_size, all_labels):\n",
    "    dataset = []\n",
    "    labels = []\n",
    "    file_names = []\n",
    "    for dir_ in os.scandir(base_dir):\n",
    "        if not dir_.is_dir():\n",
    "            continue\n",
    "        label = all_labels.index(dir_.name)\n",
    "        for file in os.scandir(dir_.path):\n",
    "            if file.name == '.DS_Store':\n",
    "                continue\n",
    "            img = load_img(file.path, target_size=(img_size, img_size), color_mode='grayscale')\n",
    "            arr_img = img_to_array(img)\n",
    "            dataset.append(arr_img)\n",
    "            labels.append(label) # change label to 0 or 1\n",
    "            file_names.append(file.name)\n",
    "    dataset = np.array(dataset, dtype='float32')\n",
    "    labels = np.expand_dims(labels, -1)\n",
    "    file_names = np.expand_dims(file_names, -1)\n",
    "    return dataset, labels, file_names"
   ]
  },
  {
   "cell_type": "code",
   "execution_count": 5,
   "metadata": {},
   "outputs": [],
   "source": [
    "orig_train_set, orig_train_labels, train_file_names = load_data(path.join(base_dir, \"train\"), img_size, all_labels)\n",
    "orig_validation_set, orig_validation_labels, _ = load_data(path.join(base_dir, \"val\"), img_size, all_labels)\n",
    "test_set, test_labels, _ = load_data(path.join(base_dir, \"test\"), img_size, all_labels)"
   ]
  },
  {
   "cell_type": "markdown",
   "metadata": {},
   "source": [
    "### Data preprocessing"
   ]
  },
  {
   "cell_type": "markdown",
   "metadata": {},
   "source": [
    "Normalization"
   ]
  },
  {
   "cell_type": "code",
   "execution_count": 6,
   "metadata": {},
   "outputs": [],
   "source": [
    "orig_train_set /= 255\n",
    "orig_validation_set /= 255\n",
    "test_set /= 255"
   ]
  },
  {
   "cell_type": "markdown",
   "metadata": {},
   "source": [
    "Increase validation set"
   ]
  },
  {
   "cell_type": "code",
   "execution_count": 7,
   "metadata": {},
   "outputs": [
    {
     "name": "stdout",
     "output_type": "stream",
     "text": [
      "validation set size before moving from the train:  16\n",
      "validation set size after moving:  416\n"
     ]
    }
   ],
   "source": [
    "print('validation set size before moving from the train: ', len(orig_validation_set))\n",
    "\n",
    "num_to_move = 200\n",
    "normal_indexes = [i for i, label in enumerate(orig_train_labels.reshape(-1)) if label == 0]\n",
    "bacteria_indexes = [i for i, file in enumerate(train_file_names.reshape(-1)) if 'bacteria' in file]\n",
    "virus_indexes = [i for i, file in enumerate(train_file_names.reshape(-1)) if 'virus' in file]\n",
    "\n",
    "new_indexes = np.concatenate((normal_indexes[:num_to_move], bacteria_indexes[:num_to_move//2], virus_indexes[:num_to_move//2]), axis=0)\n",
    "validation_set = np.concatenate((orig_validation_set, orig_train_set[new_indexes]), axis=0)\n",
    "validation_labels = np.concatenate((orig_validation_labels, orig_train_labels[new_indexes]), axis=0)\n",
    "\n",
    "train_set = np.delete(orig_train_set, new_indexes, axis=0)\n",
    "train_labels = np.delete(orig_train_labels, new_indexes, axis=0)\n",
    "\n",
    "print('validation set size after moving: ', len(validation_set))\n"
   ]
  },
  {
   "cell_type": "markdown",
   "metadata": {},
   "source": [
    "Balance the training data"
   ]
  },
  {
   "cell_type": "code",
   "execution_count": 8,
   "metadata": {},
   "outputs": [
    {
     "name": "stdout",
     "output_type": "stream",
     "text": [
      "Number of images in training set:  4816\n",
      "Number of Normal images:  1141\n",
      "Number of Pneumonia images:  3675\n",
      "Ratio between classes: 24:76\n"
     ]
    },
    {
     "data": {
      "image/png": "[encoded data removed]",
      "text/plain": [
       "<Figure size 640x480 with 1 Axes>"
      ]
     },
     "metadata": {},
     "output_type": "display_data"
    }
   ],
   "source": [
    "normal_train_data = train_set[train_labels[:, 0] == 0] \n",
    "pneum_train_data = train_set[train_labels[:, 0] == 1]\n",
    "\n",
    "print('Number of images in training set: ', len(train_set))\n",
    "print('Number of Normal images: ', len(normal_train_data))\n",
    "print('Number of Pneumonia images: ', len(pneum_train_data))\n",
    "\n",
    "ratio_normal = round(len(normal_train_data)/len(train_set)*100)\n",
    "ratio_pneum = round(len(pneum_train_data)/len(train_set)*100)\n",
    "print(f'Ratio between classes: {ratio_normal}:{ratio_pneum}')\n",
    "\n",
    "plt.hist(train_labels, bins=2, color='blue', rwidth=0.7)\n",
    "plt.ylabel('Number of images')\n",
    "plt.xticks([0.25, 0.75], ['NORMAL', 'PNEUMONIA'])\n",
    "plt.show()"
   ]
  },
  {
   "cell_type": "markdown",
   "metadata": {},
   "source": [
    "Balance the data by multiplying the normal images"
   ]
  },
  {
   "cell_type": "code",
   "execution_count": 9,
   "metadata": {},
   "outputs": [],
   "source": [
    "multiply_by = round(len(pneum_train_data) / len(normal_train_data))\n",
    "normal_train_data = np.concatenate([normal_train_data for _ in range(multiply_by)], axis=0)\n",
    "normal_train_labels = np.full((len(normal_train_data), 1), all_labels.index('NORMAL'))\n",
    "pneum_train_labels = np.full((len(pneum_train_data), 1), all_labels.index('PNEUMONIA'))\n",
    "\n",
    "train_set = np.concatenate([normal_train_data, pneum_train_data], axis=0)\n",
    "train_labels = np.concatenate([normal_train_labels, pneum_train_labels], axis=0)"
   ]
  },
  {
   "cell_type": "code",
   "execution_count": 10,
   "metadata": {},
   "outputs": [
    {
     "name": "stdout",
     "output_type": "stream",
     "text": [
      "Number of Normal images:  3423\n",
      "Number of Pneumonia images:  3675\n",
      "Ratio between classes: 48:52\n"
     ]
    },
    {
     "data": {
      "image/png": "[encoded data removed]",
      "text/plain": [
       "<Figure size 640x480 with 1 Axes>"
      ]
     },
     "metadata": {},
     "output_type": "display_data"
    }
   ],
   "source": [
    "print('Number of Normal images: ', len(normal_train_data))\n",
    "print('Number of Pneumonia images: ', len(pneum_train_data))\n",
    "print(f'Ratio between classes: {round(len(normal_train_data)/len(train_set)*100)}:{round(len(pneum_train_data)/len(train_set)*100)}')\n",
    "plt.hist(train_labels.squeeze(), bins=2, color='blue', rwidth=0.7)\n",
    "plt.ylabel('Number of images')\n",
    "plt.xticks([0.25, 0.75], ['NORMAL', 'PNEUMONIA'])\n",
    "plt.show()"
   ]
  },
  {
   "cell_type": "markdown",
   "metadata": {},
   "source": [
    "Shuffling"
   ]
  },
  {
   "cell_type": "code",
   "execution_count": 11,
   "metadata": {},
   "outputs": [],
   "source": [
    "def shuffle_dataset(dataset, labels):\n",
    "    indices = np.arange(dataset.shape[0])\n",
    "    np.random.shuffle(indices)\n",
    "    return dataset[indices], labels[indices]\n",
    "\n",
    "train_set, train_labels = shuffle_dataset(train_set, train_labels)"
   ]
  },
  {
   "cell_type": "markdown",
   "metadata": {},
   "source": [
    "### The model"
   ]
  },
  {
   "cell_type": "code",
   "execution_count": 12,
   "metadata": {},
   "outputs": [],
   "source": [
    "max_epochs = 50\n",
    "batch_size = 64\n",
    "learning_rate=0.001"
   ]
  },
  {
   "cell_type": "code",
   "execution_count": 13,
   "metadata": {},
   "outputs": [
    {
     "name": "stderr",
     "output_type": "stream",
     "text": [
      "2024-04-15 20:44:01.096591: I metal_plugin/src/device/metal_device.cc:1154] Metal device set to: Apple M3 Max\n",
      "2024-04-15 20:44:01.096612: I metal_plugin/src/device/metal_device.cc:296] systemMemory: 64.00 GB\n",
      "2024-04-15 20:44:01.096618: I metal_plugin/src/device/metal_device.cc:313] maxCacheSize: 24.00 GB\n",
      "2024-04-15 20:44:01.096810: I tensorflow/core/common_runtime/pluggable_device/pluggable_device_factory.cc:305] Could not identify NUMA node of platform GPU ID 0, defaulting to 0. Your kernel may not have been built with NUMA support.\n",
      "2024-04-15 20:44:01.096826: I tensorflow/core/common_runtime/pluggable_device/pluggable_device_factory.cc:271] Created TensorFlow device (/job:localhost/replica:0/task:0/device:GPU:0 with 0 MB memory) -> physical PluggableDevice (device: 0, name: METAL, pci bus id: <undefined>)\n"
     ]
    },
    {
     "name": "stdout",
     "output_type": "stream",
     "text": [
      "Epoch 1/50\n"
     ]
    },
    {
     "name": "stderr",
     "output_type": "stream",
     "text": [
      "2024-04-15 20:44:02.199138: I tensorflow/core/grappler/optimizers/custom_graph_optimizer_registry.cc:117] Plugin optimizer for device_type GPU is enabled.\n"
     ]
    },
    {
     "name": "stdout",
     "output_type": "stream",
     "text": [
      "\u001b[1m111/111\u001b[0m \u001b[32m━━━━━━━━━━━━━━━━━━━━\u001b[0m\u001b[37m\u001b[0m \u001b[1m12s\u001b[0m 95ms/step - accuracy: 0.5691 - loss: 0.7860 - precision: 0.6098 - recall: 0.4509 - val_accuracy: 0.7019 - val_loss: 0.5974 - val_precision: 0.6288 - val_recall: 0.9856\n",
      "Epoch 2/50\n",
      "\u001b[1m111/111\u001b[0m \u001b[32m━━━━━━━━━━━━━━━━━━━━\u001b[0m\u001b[37m\u001b[0m \u001b[1m10s\u001b[0m 89ms/step - accuracy: 0.7945 - loss: 0.4801 - precision: 0.8030 - recall: 0.8070 - val_accuracy: 0.9207 - val_loss: 0.2072 - val_precision: 0.9534 - val_recall: 0.8846\n",
      "Epoch 3/50\n",
      "\u001b[1m111/111\u001b[0m \u001b[32m━━━━━━━━━━━━━━━━━━━━\u001b[0m\u001b[37m\u001b[0m \u001b[1m10s\u001b[0m 89ms/step - accuracy: 0.8764 - loss: 0.3368 - precision: 0.8934 - recall: 0.8640 - val_accuracy: 0.8750 - val_loss: 0.2880 - val_precision: 0.9875 - val_recall: 0.7596\n",
      "Epoch 4/50\n",
      "\u001b[1m111/111\u001b[0m \u001b[32m━━━━━━━━━━━━━━━━━━━━\u001b[0m\u001b[37m\u001b[0m \u001b[1m10s\u001b[0m 88ms/step - accuracy: 0.8914 - loss: 0.3032 - precision: 0.9141 - recall: 0.8720 - val_accuracy: 0.9375 - val_loss: 0.1767 - val_precision: 0.9691 - val_recall: 0.9038\n",
      "Epoch 5/50\n",
      "\u001b[1m111/111\u001b[0m \u001b[32m━━━━━━━━━━━━━━━━━━━━\u001b[0m\u001b[37m\u001b[0m \u001b[1m10s\u001b[0m 89ms/step - accuracy: 0.8917 - loss: 0.3078 - precision: 0.9107 - recall: 0.8765 - val_accuracy: 0.8990 - val_loss: 0.2224 - val_precision: 0.9940 - val_recall: 0.8029\n",
      "Epoch 6/50\n",
      "\u001b[1m111/111\u001b[0m \u001b[32m━━━━━━━━━━━━━━━━━━━━\u001b[0m\u001b[37m\u001b[0m \u001b[1m10s\u001b[0m 90ms/step - accuracy: 0.8992 - loss: 0.2685 - precision: 0.9191 - recall: 0.8826 - val_accuracy: 0.8942 - val_loss: 0.2458 - val_precision: 0.9881 - val_recall: 0.7981\n",
      "Epoch 7/50\n",
      "\u001b[1m111/111\u001b[0m \u001b[32m━━━━━━━━━━━━━━━━━━━━\u001b[0m\u001b[37m\u001b[0m \u001b[1m10s\u001b[0m 89ms/step - accuracy: 0.9101 - loss: 0.2526 - precision: 0.9308 - recall: 0.8921 - val_accuracy: 0.9543 - val_loss: 0.1531 - val_precision: 0.9749 - val_recall: 0.9327\n",
      "Epoch 8/50\n",
      "\u001b[1m111/111\u001b[0m \u001b[32m━━━━━━━━━━━━━━━━━━━━\u001b[0m\u001b[37m\u001b[0m \u001b[1m10s\u001b[0m 90ms/step - accuracy: 0.9160 - loss: 0.2437 - precision: 0.9319 - recall: 0.9035 - val_accuracy: 0.9159 - val_loss: 0.2170 - val_precision: 0.9832 - val_recall: 0.8462\n",
      "Epoch 9/50\n",
      "\u001b[1m111/111\u001b[0m \u001b[32m━━━━━━━━━━━━━━━━━━━━\u001b[0m\u001b[37m\u001b[0m \u001b[1m10s\u001b[0m 89ms/step - accuracy: 0.9247 - loss: 0.2248 - precision: 0.9391 - recall: 0.9135 - val_accuracy: 0.9303 - val_loss: 0.1889 - val_precision: 0.9637 - val_recall: 0.8942\n",
      "Epoch 10/50\n",
      "\u001b[1m111/111\u001b[0m \u001b[32m━━━━━━━━━━━━━━━━━━━━\u001b[0m\u001b[37m\u001b[0m \u001b[1m10s\u001b[0m 89ms/step - accuracy: 0.9223 - loss: 0.2235 - precision: 0.9304 - recall: 0.9186 - val_accuracy: 0.9303 - val_loss: 0.1946 - val_precision: 0.9838 - val_recall: 0.8750\n",
      "Epoch 11/50\n",
      "\u001b[1m111/111\u001b[0m \u001b[32m━━━━━━━━━━━━━━━━━━━━\u001b[0m\u001b[37m\u001b[0m \u001b[1m10s\u001b[0m 90ms/step - accuracy: 0.9247 - loss: 0.2213 - precision: 0.9330 - recall: 0.9202 - val_accuracy: 0.9087 - val_loss: 0.2303 - val_precision: 0.9942 - val_recall: 0.8221\n",
      "Epoch 12/50\n",
      "\u001b[1m111/111\u001b[0m \u001b[32m━━━━━━━━━━━━━━━━━━━━\u001b[0m\u001b[37m\u001b[0m \u001b[1m10s\u001b[0m 90ms/step - accuracy: 0.9298 - loss: 0.2128 - precision: 0.9447 - recall: 0.9178 - val_accuracy: 0.9447 - val_loss: 0.1592 - val_precision: 0.9947 - val_recall: 0.8942\n",
      "Epoch 12: early stopping\n"
     ]
    }
   ],
   "source": [
    "\n",
    "\n",
    "model = Sequential(\n",
    "    [\n",
    "        keras.Input(shape=(img_size, img_size, 1)),\n",
    "        RandomRotation(0.35),\n",
    "        RandomZoom(0.1),\n",
    "        RandomBrightness(0.15, value_range=(0,1)),\n",
    "        RandomContrast(0.1),\n",
    "        Conv2D(32, kernel_size=(3, 3), activation=\"relu\"),\n",
    "        MaxPooling2D(pool_size=(2, 2)),\n",
    "        Conv2D(64, kernel_size=(3, 3), activation=\"relu\"),\n",
    "        MaxPooling2D(pool_size=(2, 2)),\n",
    "        Flatten(name='flatten'),\n",
    "        Dense(units=128, activation='relu'),\n",
    "        Dense(units=64, activation='relu'),\n",
    "        Dropout(0.5),\n",
    "        Dense(units=32, activation='relu'),\n",
    "        Dropout(0.5),\n",
    "        Dense(units=1, activation='sigmoid'),\n",
    "    ]\n",
    ")\n",
    "\n",
    "model.compile(loss=\"binary_crossentropy\", optimizer=Adam(learning_rate), metrics=[\"accuracy\", \"recall\", \"precision\"])\n",
    "early_stopping = EarlyStopping(monitor='val_loss', patience=5, verbose=1)\n",
    "history = model.fit(train_set, train_labels, epochs=max_epochs, batch_size=batch_size,\n",
    "        validation_data=(validation_set, validation_labels), callbacks=[early_stopping])\n"
   ]
  },
  {
   "cell_type": "markdown",
   "metadata": {},
   "source": [
    "save the model"
   ]
  },
  {
   "cell_type": "code",
   "execution_count": 14,
   "metadata": {},
   "outputs": [],
   "source": [
    "model.save('model_q1_a.keras')"
   ]
  },
  {
   "cell_type": "markdown",
   "metadata": {
    "vscode": {
     "languageId": "shellscript"
    }
   },
   "source": [
    "## Question 1 B"
   ]
  },
  {
   "cell_type": "markdown",
   "metadata": {},
   "source": [
    "### Loading the data"
   ]
  },
  {
   "cell_type": "code",
   "execution_count": null,
   "metadata": {},
   "outputs": [
    {
     "name": "stdout",
     "output_type": "stream",
     "text": [
      "Image size:  250 x 250\n"
     ]
    }
   ],
   "source": [
    "all_labels = ['NORMAL', 'virus', 'bacteria']\n",
    "base_dir = \"/Users/neriya.shulman/content/chest_xray\"\n",
    "\n",
    "train_path = path.join(base_dir, \"train/\")\n",
    "val_path = path.join(base_dir, \"val/\")\n",
    "test_path = path.join(base_dir, \"test/\")\n",
    "\n",
    "img_size = 250\n",
    "print(\"Image size: \", img_size, \"x\", img_size)"
   ]
  },
  {
   "cell_type": "code",
   "execution_count": null,
   "metadata": {},
   "outputs": [],
   "source": [
    "def get_label(dir_name, file_name, file_labels=[]):\n",
    "    for label in file_labels:\n",
    "        if label in file_name:\n",
    "            return label\n",
    "    return dir_name\n",
    "\n",
    "def load_data_from_path(base_dir, img_size, file_labels=[]):\n",
    "    dataset = []\n",
    "    labels = []\n",
    "    dir_names = os.path.basename(base_dir)\n",
    "    for file in os.scandir(base_dir):\n",
    "        if file.name == '.DS_Store':\n",
    "            continue\n",
    "        if file.is_dir():\n",
    "            dir_images, dir_labels = load_data_from_path(file.path, img_size, file_labels)\n",
    "            dataset.extend(dir_images)\n",
    "            labels.extend(dir_labels)\n",
    "        else:\n",
    "            img = img_to_array(load_img(file.path, target_size=(img_size, img_size), color_mode='grayscale'))\n",
    "            dataset.append(img)\n",
    "            labels.append(get_label(dir_names, file.name, file_labels))\n",
    "    dataset = np.array(dataset, dtype='float32')\n",
    "    labels = np.array(labels)\n",
    "    return dataset, labels\n",
    "\n",
    "def load_data(path, img_size, all_labels, file_labels=[]):\n",
    "    dataset, labels = load_data_from_path(path, img_size, file_labels)\n",
    "    labels = np.array([all_labels.index(label) for label in labels]) # one-hot encoding\n",
    "    labels = to_categorical(labels, len(all_labels))\n",
    "    return dataset, labels"
   ]
  },
  {
   "cell_type": "code",
   "execution_count": null,
   "metadata": {},
   "outputs": [
    {
     "name": "stdout",
     "output_type": "stream",
     "text": [
      "Number of classes:  3\n",
      "Number of total samples:  5216\n"
     ]
    }
   ],
   "source": [
    "orig_train_set, orig_train_labels = load_data(train_path, img_size, all_labels, file_labels=['bacteria', 'virus'])\n",
    "orig_validation_set, orig_validation_labels = load_data(val_path, img_size, all_labels, file_labels=['bacteria', 'virus'])\n",
    "test_set, test_labels = load_data(test_path, img_size, all_labels, file_labels=['bacteria', 'virus'])\n",
    "\n",
    "print('Number of classes: ', len(all_labels))\n",
    "print('Number of total samples: ', len(orig_train_set))"
   ]
  },
  {
   "cell_type": "markdown",
   "metadata": {},
   "source": [
    "### Data preprocessing"
   ]
  },
  {
   "cell_type": "markdown",
   "metadata": {},
   "source": [
    "Normalization"
   ]
  },
  {
   "cell_type": "code",
   "execution_count": null,
   "metadata": {},
   "outputs": [],
   "source": [
    "orig_train_set /= 255\n",
    "orig_validation_set /= 255\n",
    "test_set /= 255"
   ]
  },
  {
   "cell_type": "markdown",
   "metadata": {},
   "source": [
    "Increase validation set"
   ]
  },
  {
   "cell_type": "code",
   "execution_count": null,
   "metadata": {},
   "outputs": [
    {
     "name": "stdout",
     "output_type": "stream",
     "text": [
      "validation set size before moving from the train:  16\n",
      "validation set size after moving:  416\n"
     ]
    }
   ],
   "source": [
    "print('validation set size before moving from the train: ', len(orig_validation_set))\n",
    "\n",
    "num_to_move = 200\n",
    "normal_indexes = np.where(np.all(orig_train_labels == to_categorical(0, len(all_labels)), axis=1))[0]\n",
    "bacteria_indexes = np.where(orig_train_labels[np.all(orig_train_labels == to_categorical(1, len(all_labels)), axis=1)])[0]\n",
    "virus_indexes = np.where(orig_train_labels[np.all(orig_train_labels == to_categorical(2, len(all_labels)), axis=1)])[0]\n",
    "\n",
    "new_indexes = np.concatenate((normal_indexes[:num_to_move], bacteria_indexes[:num_to_move//2], virus_indexes[:num_to_move//2]), axis=0)\n",
    "validation_set = np.concatenate((orig_validation_set, orig_train_set[new_indexes]), axis=0)\n",
    "validation_labels = np.concatenate((orig_validation_labels, orig_train_labels[new_indexes]), axis=0)\n",
    "\n",
    "train_set = np.delete(orig_train_set, new_indexes, axis=0)\n",
    "train_labels = np.delete(orig_train_labels, new_indexes, axis=0)\n",
    "\n",
    "print('validation set size after moving: ', len(validation_set))"
   ]
  },
  {
   "cell_type": "markdown",
   "metadata": {},
   "source": [
    "Balance the training data"
   ]
  },
  {
   "cell_type": "code",
   "execution_count": null,
   "metadata": {},
   "outputs": [],
   "source": [
    "normal_label = to_categorical(all_labels.index('NORMAL'), len(all_labels))\n",
    "virus_label = to_categorical(all_labels.index('virus'), len(all_labels))\n",
    "bacteria_label = to_categorical(all_labels.index('bacteria'), len(all_labels))\n",
    "\n",
    "normal_train_data = train_set[np.all(train_labels == normal_label, axis=1)] \n",
    "bacteria_train_data = train_set[np.all(train_labels == bacteria_label, axis=1)]\n",
    "virus_train_data = train_set[np.all(train_labels == virus_label, axis=1)]"
   ]
  },
  {
   "cell_type": "code",
   "execution_count": null,
   "metadata": {},
   "outputs": [
    {
     "name": "stdout",
     "output_type": "stream",
     "text": [
      "Number of images in training set:  4916\n",
      "Ratio between classes: 23:50:27\n"
     ]
    },
    {
     "data": {
      "image/png": "[encoded data removed]",
      "text/plain": [
       "<Figure size 640x480 with 1 Axes>"
      ]
     },
     "metadata": {},
     "output_type": "display_data"
    }
   ],
   "source": [
    "print('Number of images in training set: ', len(train_set))\n",
    "ratio_normal = round(len(normal_train_data)/len(train_set)*100)\n",
    "ratio_bacteria = round(len(bacteria_train_data)/len(train_set)*100)\n",
    "ratio_virus = round(len(virus_train_data)/len(train_set)*100)\n",
    "print(f'Ratio between classes: {ratio_normal}:{ratio_bacteria}:{ratio_virus}')\n",
    "\n",
    "label_names = {(1., 0., 0.): 'NORMAL', (0., 1., 0.): 'virus', (0., 0., 1.): 'bacteria'}\n",
    "arr = np.array([label_names[tuple(x)] for x in train_labels])\n",
    "plt.hist(arr, bins=3, rwidth=0.5)\n",
    "plt.ylabel('Number of images')\n",
    "nc = len(set(arr)) \n",
    "plt.xticks(np.linspace(0, nc-1, 2*nc+1)[1::2])\n",
    "plt.show()"
   ]
  },
  {
   "cell_type": "markdown",
   "metadata": {},
   "source": [
    "Balance the data by multiplying the normal and the bacteria images"
   ]
  },
  {
   "cell_type": "code",
   "execution_count": null,
   "metadata": {},
   "outputs": [],
   "source": [
    "multiply_train_by = round(max(len(bacteria_train_data), len(virus_train_data)) / len(normal_train_data))\n",
    "normal_train_data = np.concatenate([normal_train_data for _ in range(multiply_train_by)], axis=0)\n",
    "normal_train_labels = np.full((len(normal_train_data), 3), normal_label)\n",
    "\n",
    "multiply_virus_by = round(max(len(normal_train_data), len(bacteria_train_data)) / len(virus_train_data))\n",
    "virus_train_data = np.concatenate([virus_train_data for _ in range(multiply_virus_by)], axis=0)\n",
    "virus_train_labels = np.full((len(virus_train_data), 3), virus_label)\n",
    "bacteria_train_labels = np.full((len(bacteria_train_data), 3), bacteria_label)\n",
    "\n",
    "train_set = np.concatenate([normal_train_data, virus_train_data, bacteria_train_data], axis=0)\n",
    "train_labels = np.concatenate([normal_train_labels, virus_train_labels, bacteria_train_labels], axis=0)\n"
   ]
  },
  {
   "cell_type": "code",
   "execution_count": null,
   "metadata": {},
   "outputs": [
    {
     "name": "stdout",
     "output_type": "stream",
     "text": [
      "Number of images in training set:  7367\n",
      "Ratio between classes: 31:33:36\n"
     ]
    },
    {
     "data": {
      "image/png": "[encoded data removed]",
      "text/plain": [
       "<Figure size 640x480 with 1 Axes>"
      ]
     },
     "metadata": {},
     "output_type": "display_data"
    }
   ],
   "source": [
    "print('Number of images in training set: ', len(train_set))\n",
    "ratio_normal = round(len(normal_train_data)/len(train_set)*100)\n",
    "ratio_bacteria = round(len(bacteria_train_data)/len(train_set)*100)\n",
    "ratio_virus = round(len(virus_train_data)/len(train_set)*100)\n",
    "print(f'Ratio between classes: {ratio_normal}:{ratio_bacteria}:{ratio_virus}')\n",
    "\n",
    "label_names = {(1., 0., 0.): 'NORMAL', (0., 1., 0.): 'virus', (0., 0., 1.): 'bacteria'}\n",
    "arr = np.array([label_names[tuple(x)] for x in train_labels])\n",
    "plt.hist(arr, bins=3, rwidth=0.5)\n",
    "plt.ylabel('Number of images')\n",
    "nc = len(set(arr)) \n",
    "plt.xticks(np.linspace(0, nc-1, 2*nc+1)[1::2])\n",
    "plt.show()"
   ]
  },
  {
   "cell_type": "markdown",
   "metadata": {},
   "source": [
    "Shuffling"
   ]
  },
  {
   "cell_type": "code",
   "execution_count": null,
   "metadata": {},
   "outputs": [],
   "source": [
    "def shuffle_dataset(dataset, labels):\n",
    "    indices = np.arange(dataset.shape[0])\n",
    "    np.random.shuffle(indices)\n",
    "    return dataset[indices], labels[indices]\n",
    "\n",
    "train_set, train_labels = shuffle_dataset(train_set, train_labels)"
   ]
  },
  {
   "cell_type": "markdown",
   "metadata": {},
   "source": [
    "### The model"
   ]
  },
  {
   "cell_type": "code",
   "execution_count": null,
   "metadata": {},
   "outputs": [
    {
     "name": "stdout",
     "output_type": "stream",
     "text": [
      "Batch size:  64\n"
     ]
    }
   ],
   "source": [
    "max_epochs = 50\n",
    "batch_size = 64\n",
    "learning_rate=0.001\n",
    "print(\"Batch size: \", batch_size)"
   ]
  },
  {
   "cell_type": "code",
   "execution_count": null,
   "metadata": {},
   "outputs": [
    {
     "name": "stderr",
     "output_type": "stream",
     "text": [
      "2024-04-15 18:18:44.476697: I metal_plugin/src/device/metal_device.cc:1154] Metal device set to: Apple M3 Max\n",
      "2024-04-15 18:18:44.476721: I metal_plugin/src/device/metal_device.cc:296] systemMemory: 64.00 GB\n",
      "2024-04-15 18:18:44.476727: I metal_plugin/src/device/metal_device.cc:313] maxCacheSize: 24.00 GB\n",
      "2024-04-15 18:18:44.476746: I tensorflow/core/common_runtime/pluggable_device/pluggable_device_factory.cc:305] Could not identify NUMA node of platform GPU ID 0, defaulting to 0. Your kernel may not have been built with NUMA support.\n",
      "2024-04-15 18:18:44.476756: I tensorflow/core/common_runtime/pluggable_device/pluggable_device_factory.cc:271] Created TensorFlow device (/job:localhost/replica:0/task:0/device:GPU:0 with 0 MB memory) -> physical PluggableDevice (device: 0, name: METAL, pci bus id: <undefined>)\n"
     ]
    },
    {
     "name": "stdout",
     "output_type": "stream",
     "text": [
      "Epoch 1/50\n"
     ]
    },
    {
     "name": "stderr",
     "output_type": "stream",
     "text": [
      "2024-04-15 18:18:45.721354: I tensorflow/core/grappler/optimizers/custom_graph_optimizer_registry.cc:117] Plugin optimizer for device_type GPU is enabled.\n"
     ]
    },
    {
     "name": "stdout",
     "output_type": "stream",
     "text": [
      "\u001b[1m116/116\u001b[0m \u001b[32m━━━━━━━━━━━━━━━━━━━━\u001b[0m\u001b[37m\u001b[0m \u001b[1m40s\u001b[0m 325ms/step - accuracy: 0.3726 - loss: 1.0938 - precision: 0.4403 - recall: 0.0410 - val_accuracy: 0.6562 - val_loss: 0.9595 - val_precision: 0.7000 - val_recall: 0.2188\n",
      "Epoch 2/50\n",
      "\u001b[1m116/116\u001b[0m \u001b[32m━━━━━━━━━━━━━━━━━━━━\u001b[0m\u001b[37m\u001b[0m \u001b[1m36s\u001b[0m 309ms/step - accuracy: 0.5274 - loss: 0.9744 - precision: 0.5877 - recall: 0.2864 - val_accuracy: 0.6659 - val_loss: 0.7598 - val_precision: 0.7786 - val_recall: 0.5240\n",
      "Epoch 3/50\n",
      "\u001b[1m116/116\u001b[0m \u001b[32m━━━━━━━━━━━━━━━━━━━━\u001b[0m\u001b[37m\u001b[0m \u001b[1m40s\u001b[0m 345ms/step - accuracy: 0.6208 - loss: 0.8547 - precision: 0.6685 - recall: 0.4817 - val_accuracy: 0.7596 - val_loss: 0.6918 - val_precision: 0.7977 - val_recall: 0.6731\n",
      "Epoch 4/50\n",
      "\u001b[1m116/116\u001b[0m \u001b[32m━━━━━━━━━━━━━━━━━━━━\u001b[0m\u001b[37m\u001b[0m \u001b[1m54s\u001b[0m 469ms/step - accuracy: 0.6451 - loss: 0.8208 - precision: 0.6946 - recall: 0.5362 - val_accuracy: 0.7957 - val_loss: 0.5660 - val_precision: 0.8189 - val_recall: 0.7716\n",
      "Epoch 5/50\n",
      "\u001b[1m116/116\u001b[0m \u001b[32m━━━━━━━━━━━━━━━━━━━━\u001b[0m\u001b[37m\u001b[0m \u001b[1m54s\u001b[0m 469ms/step - accuracy: 0.6537 - loss: 0.8000 - precision: 0.6989 - recall: 0.5510 - val_accuracy: 0.7428 - val_loss: 0.6008 - val_precision: 0.7814 - val_recall: 0.6875\n",
      "Epoch 6/50\n",
      "\u001b[1m116/116\u001b[0m \u001b[32m━━━━━━━━━━━━━━━━━━━━\u001b[0m\u001b[37m\u001b[0m \u001b[1m47s\u001b[0m 405ms/step - accuracy: 0.6624 - loss: 0.7662 - precision: 0.7189 - recall: 0.5651 - val_accuracy: 0.6611 - val_loss: 0.6975 - val_precision: 0.7500 - val_recall: 0.6058\n",
      "Epoch 7/50\n",
      "\u001b[1m116/116\u001b[0m \u001b[32m━━━━━━━━━━━━━━━━━━━━\u001b[0m\u001b[37m\u001b[0m \u001b[1m42s\u001b[0m 359ms/step - accuracy: 0.6731 - loss: 0.7452 - precision: 0.7169 - recall: 0.5885 - val_accuracy: 0.7091 - val_loss: 0.7915 - val_precision: 0.7389 - val_recall: 0.6394\n",
      "Epoch 8/50\n",
      "\u001b[1m116/116\u001b[0m \u001b[32m━━━━━━━━━━━━━━━━━━━━\u001b[0m\u001b[37m\u001b[0m \u001b[1m41s\u001b[0m 350ms/step - accuracy: 0.6677 - loss: 0.7342 - precision: 0.7139 - recall: 0.6004 - val_accuracy: 0.6779 - val_loss: 0.6631 - val_precision: 0.7354 - val_recall: 0.6346\n",
      "Epoch 9/50\n",
      "\u001b[1m116/116\u001b[0m \u001b[32m━━━━━━━━━━━━━━━━━━━━\u001b[0m\u001b[37m\u001b[0m \u001b[1m40s\u001b[0m 344ms/step - accuracy: 0.6964 - loss: 0.6538 - precision: 0.7326 - recall: 0.6398 - val_accuracy: 0.7837 - val_loss: 0.5242 - val_precision: 0.8130 - val_recall: 0.7212\n",
      "Epoch 10/50\n",
      "\u001b[1m116/116\u001b[0m \u001b[32m━━━━━━━━━━━━━━━━━━━━\u001b[0m\u001b[37m\u001b[0m \u001b[1m40s\u001b[0m 345ms/step - accuracy: 0.7073 - loss: 0.6146 - precision: 0.7386 - recall: 0.6608 - val_accuracy: 0.7524 - val_loss: 0.5796 - val_precision: 0.8049 - val_recall: 0.7139\n",
      "Epoch 11/50\n",
      "\u001b[1m116/116\u001b[0m \u001b[32m━━━━━━━━━━━━━━━━━━━━\u001b[0m\u001b[37m\u001b[0m \u001b[1m40s\u001b[0m 343ms/step - accuracy: 0.7339 - loss: 0.5845 - precision: 0.7618 - recall: 0.6932 - val_accuracy: 0.8101 - val_loss: 0.4514 - val_precision: 0.8494 - val_recall: 0.7861\n",
      "Epoch 12/50\n",
      "\u001b[1m116/116\u001b[0m \u001b[32m━━━━━━━━━━━━━━━━━━━━\u001b[0m\u001b[37m\u001b[0m \u001b[1m40s\u001b[0m 341ms/step - accuracy: 0.7547 - loss: 0.5536 - precision: 0.7762 - recall: 0.7086 - val_accuracy: 0.7957 - val_loss: 0.4818 - val_precision: 0.8163 - val_recall: 0.7692\n",
      "Epoch 13/50\n",
      "\u001b[1m116/116\u001b[0m \u001b[32m━━━━━━━━━━━━━━━━━━━━\u001b[0m\u001b[37m\u001b[0m \u001b[1m39s\u001b[0m 337ms/step - accuracy: 0.7470 - loss: 0.5574 - precision: 0.7733 - recall: 0.7144 - val_accuracy: 0.7452 - val_loss: 0.5216 - val_precision: 0.8496 - val_recall: 0.6923\n",
      "Epoch 14/50\n",
      "\u001b[1m116/116\u001b[0m \u001b[32m━━━━━━━━━━━━━━━━━━━━\u001b[0m\u001b[37m\u001b[0m \u001b[1m39s\u001b[0m 335ms/step - accuracy: 0.7588 - loss: 0.5390 - precision: 0.7825 - recall: 0.7293 - val_accuracy: 0.8053 - val_loss: 0.4378 - val_precision: 0.8519 - val_recall: 0.7885\n",
      "Epoch 15/50\n",
      "\u001b[1m116/116\u001b[0m \u001b[32m━━━━━━━━━━━━━━━━━━━━\u001b[0m\u001b[37m\u001b[0m \u001b[1m39s\u001b[0m 332ms/step - accuracy: 0.7375 - loss: 0.5602 - precision: 0.7629 - recall: 0.7016 - val_accuracy: 0.8101 - val_loss: 0.4630 - val_precision: 0.8196 - val_recall: 0.7644\n",
      "Epoch 16/50\n",
      "\u001b[1m116/116\u001b[0m \u001b[32m━━━━━━━━━━━━━━━━━━━━\u001b[0m\u001b[37m\u001b[0m \u001b[1m38s\u001b[0m 329ms/step - accuracy: 0.7638 - loss: 0.5182 - precision: 0.7814 - recall: 0.7432 - val_accuracy: 0.8221 - val_loss: 0.4065 - val_precision: 0.8380 - val_recall: 0.7957\n",
      "Epoch 17/50\n",
      "\u001b[1m116/116\u001b[0m \u001b[32m━━━━━━━━━━━━━━━━━━━━\u001b[0m\u001b[37m\u001b[0m \u001b[1m38s\u001b[0m 324ms/step - accuracy: 0.7661 - loss: 0.5278 - precision: 0.7824 - recall: 0.7434 - val_accuracy: 0.8317 - val_loss: 0.4129 - val_precision: 0.8594 - val_recall: 0.7933\n",
      "Epoch 18/50\n",
      "\u001b[1m116/116\u001b[0m \u001b[32m━━━━━━━━━━━━━━━━━━━━\u001b[0m\u001b[37m\u001b[0m \u001b[1m38s\u001b[0m 327ms/step - accuracy: 0.7706 - loss: 0.5137 - precision: 0.7847 - recall: 0.7450 - val_accuracy: 0.8101 - val_loss: 0.3961 - val_precision: 0.8241 - val_recall: 0.7885\n",
      "Epoch 19/50\n",
      "\u001b[1m116/116\u001b[0m \u001b[32m━━━━━━━━━━━━━━━━━━━━\u001b[0m\u001b[37m\u001b[0m \u001b[1m38s\u001b[0m 324ms/step - accuracy: 0.7789 - loss: 0.5057 - precision: 0.7946 - recall: 0.7609 - val_accuracy: 0.8413 - val_loss: 0.3860 - val_precision: 0.8593 - val_recall: 0.8221\n",
      "Epoch 20/50\n",
      "\u001b[1m116/116\u001b[0m \u001b[32m━━━━━━━━━━━━━━━━━━━━\u001b[0m\u001b[37m\u001b[0m \u001b[1m37s\u001b[0m 319ms/step - accuracy: 0.7639 - loss: 0.5091 - precision: 0.7800 - recall: 0.7414 - val_accuracy: 0.7788 - val_loss: 0.4762 - val_precision: 0.8220 - val_recall: 0.7548\n",
      "Epoch 21/50\n",
      "\u001b[1m116/116\u001b[0m \u001b[32m━━━━━━━━━━━━━━━━━━━━\u001b[0m\u001b[37m\u001b[0m \u001b[1m37s\u001b[0m 320ms/step - accuracy: 0.7617 - loss: 0.5165 - precision: 0.7793 - recall: 0.7315 - val_accuracy: 0.8173 - val_loss: 0.3742 - val_precision: 0.8491 - val_recall: 0.7981\n",
      "Epoch 22/50\n",
      "\u001b[1m116/116\u001b[0m \u001b[32m━━━━━━━━━━━━━━━━━━━━\u001b[0m\u001b[37m\u001b[0m \u001b[1m37s\u001b[0m 320ms/step - accuracy: 0.7790 - loss: 0.4998 - precision: 0.7910 - recall: 0.7572 - val_accuracy: 0.8053 - val_loss: 0.4099 - val_precision: 0.8259 - val_recall: 0.7981\n",
      "Epoch 23/50\n",
      "\u001b[1m116/116\u001b[0m \u001b[32m━━━━━━━━━━━━━━━━━━━━\u001b[0m\u001b[37m\u001b[0m \u001b[1m37s\u001b[0m 318ms/step - accuracy: 0.7856 - loss: 0.4834 - precision: 0.7991 - recall: 0.7687 - val_accuracy: 0.8077 - val_loss: 0.4634 - val_precision: 0.8212 - val_recall: 0.7837\n",
      "Epoch 24/50\n",
      "\u001b[1m116/116\u001b[0m \u001b[32m━━━━━━━━━━━━━━━━━━━━\u001b[0m\u001b[37m\u001b[0m \u001b[1m37s\u001b[0m 315ms/step - accuracy: 0.7853 - loss: 0.4727 - precision: 0.7984 - recall: 0.7636 - val_accuracy: 0.8125 - val_loss: 0.4315 - val_precision: 0.8359 - val_recall: 0.7957\n",
      "Epoch 25/50\n",
      "\u001b[1m116/116\u001b[0m \u001b[32m━━━━━━━━━━━━━━━━━━━━\u001b[0m\u001b[37m\u001b[0m \u001b[1m37s\u001b[0m 316ms/step - accuracy: 0.7917 - loss: 0.4682 - precision: 0.8020 - recall: 0.7750 - val_accuracy: 0.7981 - val_loss: 0.4170 - val_precision: 0.8329 - val_recall: 0.7788\n",
      "Epoch 26/50\n",
      "\u001b[1m116/116\u001b[0m \u001b[32m━━━━━━━━━━━━━━━━━━━━\u001b[0m\u001b[37m\u001b[0m \u001b[1m36s\u001b[0m 313ms/step - accuracy: 0.7861 - loss: 0.4810 - precision: 0.7993 - recall: 0.7657 - val_accuracy: 0.8245 - val_loss: 0.3862 - val_precision: 0.8413 - val_recall: 0.8029\n",
      "Epoch 26: early stopping\n"
     ]
    }
   ],
   "source": [
    "model = keras.Sequential(\n",
    "    [\n",
    "        keras.Input(shape=(img_size, img_size, 1)),\n",
    "        RandomRotation(0.35),\n",
    "        RandomZoom(0.1),\n",
    "        RandomBrightness(0.02, value_range=(0,1)),\n",
    "        RandomContrast(0.02),\n",
    "\n",
    "        Conv2D(64, (3, 3), activation='relu', padding='same'),\n",
    "        MaxPooling2D(pool_size=(2, 2)),\n",
    "        Conv2D(128, (3, 3), activation='relu', padding='same'),\n",
    "        MaxPooling2D(pool_size=(2, 2)),\n",
    "        Conv2D(256, (3, 3), activation='relu', padding='same'),\n",
    "        MaxPooling2D(pool_size=(2, 2)),\n",
    "        Conv2D(512, (3, 3), activation='relu', padding='same'),\n",
    "        MaxPooling2D(pool_size=(2, 2)),\n",
    "\n",
    "        Flatten(name='flatten'),\n",
    "        Dense(units=1024, activation='relu'),\n",
    "        Dense(units=526, activation='relu'),\n",
    "        Dropout(0.25),\n",
    "        Dense(units=256, activation='relu'),\n",
    "        Dense(units=128, activation='relu'),\n",
    "        Dropout(0.5),\n",
    "        Dense(len(all_labels), activation='softmax'),\n",
    "    ]\n",
    ")\n",
    "\n",
    "model.compile(loss=\"categorical_crossentropy\", optimizer=\"adam\", metrics=[\"accuracy\", \"recall\", \"precision\"])\n",
    "early_stopping = EarlyStopping(monitor='val_loss', patience=5, verbose=1)\n",
    "history = model.fit(train_set, train_labels, epochs=max_epochs, batch_size=batch_size,\n",
    "        validation_data=(validation_set, validation_labels), callbacks=[early_stopping])\n"
   ]
  },
  {
   "cell_type": "markdown",
   "metadata": {},
   "source": [
    "save the model"
   ]
  },
  {
   "cell_type": "code",
   "execution_count": null,
   "metadata": {},
   "outputs": [],
   "source": [
    "model.save('model_q1_b.keras')"
   ]
  },
  {
   "cell_type": "markdown",
   "metadata": {},
   "source": [
    "## Question 3"
   ]
  },
  {
   "cell_type": "markdown",
   "metadata": {},
   "source": [
    "### Load data"
   ]
  },
  {
   "cell_type": "code",
   "execution_count": 24,
   "metadata": {},
   "outputs": [],
   "source": [
    "# TODO: delete it\n",
    "np.random.seed(100)\n",
    "random.seed(100)\n",
    "tf.random.set_seed(100)\n",
    "\n",
    "image_size = 250\n",
    "# TODO: change it\n",
    "base_dir = \"/Users/neriya.shulman/content/chest_xray\"\n",
    "\n",
    "train_dir = os.path.join(base_dir, 'train')\n",
    "val_dir = os.path.join(base_dir, 'val')\n",
    "test_dir = os.path.join(base_dir, 'test')"
   ]
  },
  {
   "cell_type": "code",
   "execution_count": 25,
   "metadata": {},
   "outputs": [],
   "source": [
    "def load_images(dir_path, image_size):\n",
    "    images = []\n",
    "    files = os.listdir(dir_path)\n",
    "    for filename in files:\n",
    "        if filename == '.DS_Store':\n",
    "            continue\n",
    "        img_path = os.path.join(dir_path, filename)\n",
    "        if os.path.isfile(img_path):\n",
    "            img = load_img(img_path, target_size=(image_size, image_size), color_mode='grayscale')\n",
    "            images.append(img)\n",
    "    images = np.array(images, dtype='float32')\n",
    "    images = np.expand_dims(images, -1) # image should be (height, width, channels)\n",
    "    return images"
   ]
  },
  {
   "cell_type": "code",
   "execution_count": 26,
   "metadata": {},
   "outputs": [
    {
     "name": "stdout",
     "output_type": "stream",
     "text": [
      "shape: (250, 250, 1)\n"
     ]
    }
   ],
   "source": [
    "\n",
    "train_set = load_images(os.path.join(train_dir, 'NORMAL'), image_size)\n",
    "validation_set = load_images(os.path.join(val_dir, 'NORMAL'), image_size)\n",
    "\n",
    "normal_test_set = load_images(os.path.join(test_dir, 'NORMAL'), image_size)\n",
    "normal_test_labels = np.full(len(normal_test_set), 'NORMAL')\n",
    "anomal_test_set = load_images(os.path.join(test_dir, 'PNEUMONIA'), image_size)\n",
    "anomal_test_labels = np.full(len(anomal_test_set), 'PNEUMONIA')\n",
    "test_set = np.concatenate((normal_test_set, anomal_test_set), axis=0)\n",
    "test_labels = np.concatenate((normal_test_labels, anomal_test_labels), axis=0)\n",
    "\n",
    "input_shape = (image_size, image_size, 1)\n",
    "print('shape:', input_shape)"
   ]
  },
  {
   "cell_type": "markdown",
   "metadata": {},
   "source": [
    "### Data preprocessing"
   ]
  },
  {
   "cell_type": "markdown",
   "metadata": {},
   "source": [
    "Normalization"
   ]
  },
  {
   "cell_type": "code",
   "execution_count": 27,
   "metadata": {},
   "outputs": [],
   "source": [
    "train_set /= 255\n",
    "validation_set /= 255\n",
    "test_set /= 255"
   ]
  },
  {
   "cell_type": "markdown",
   "metadata": {},
   "source": [
    "Data augmentation"
   ]
  },
  {
   "cell_type": "code",
   "execution_count": 28,
   "metadata": {},
   "outputs": [],
   "source": [
    "def augment_data(data_set, multiply=1):\n",
    "    augmented_data = [data_set]\n",
    "    for _ in range(multiply):\n",
    "        data = RandomRotation(0.35)(data_set)\n",
    "        data = RandomZoom(0.1)(data_set)\n",
    "        data = RandomBrightness(0.15, value_range=(0,1))(data_set)\n",
    "        data = RandomContrast(0.1)(data_set)\n",
    "        augmented_data.append(data)\n",
    "    return np.concatenate(augmented_data)\n",
    "\n",
    "train_set = augment_data(train_set, 2)"
   ]
  },
  {
   "cell_type": "markdown",
   "metadata": {},
   "source": [
    "### The model"
   ]
  },
  {
   "cell_type": "code",
   "execution_count": 29,
   "metadata": {},
   "outputs": [
    {
     "name": "stdout",
     "output_type": "stream",
     "text": [
      "loss: mean_squared_error\n",
      "batch_size: 32\n",
      "Epoch 1/30\n"
     ]
    },
    {
     "name": "stderr",
     "output_type": "stream",
     "text": [
      "2024-04-15 19:55:29.608268: I tensorflow/core/grappler/optimizers/custom_graph_optimizer_registry.cc:117] Plugin optimizer for device_type GPU is enabled.\n"
     ]
    },
    {
     "name": "stdout",
     "output_type": "stream",
     "text": [
      "\u001b[1m126/126\u001b[0m \u001b[32m━━━━━━━━━━━━━━━━━━━━\u001b[0m\u001b[37m\u001b[0m \u001b[1m49s\u001b[0m 370ms/step - loss: 0.0117 - mean_squared_error: 0.0117 - val_loss: 5.4739e-04 - val_mean_squared_error: 5.4739e-04\n",
      "Epoch 2/30\n",
      "\u001b[1m126/126\u001b[0m \u001b[32m━━━━━━━━━━━━━━━━━━━━\u001b[0m\u001b[37m\u001b[0m \u001b[1m51s\u001b[0m 401ms/step - loss: 4.2828e-04 - mean_squared_error: 4.2828e-04 - val_loss: 2.7804e-04 - val_mean_squared_error: 2.7804e-04\n",
      "Epoch 3/30\n",
      "\u001b[1m126/126\u001b[0m \u001b[32m━━━━━━━━━━━━━━━━━━━━\u001b[0m\u001b[37m\u001b[0m \u001b[1m67s\u001b[0m 532ms/step - loss: 1.6403e-04 - mean_squared_error: 1.6403e-04 - val_loss: 0.0014 - val_mean_squared_error: 0.0014\n",
      "Epoch 4/30\n",
      "\u001b[1m126/126\u001b[0m \u001b[32m━━━━━━━━━━━━━━━━━━━━\u001b[0m\u001b[37m\u001b[0m \u001b[1m63s\u001b[0m 504ms/step - loss: 4.9898e-04 - mean_squared_error: 4.9898e-04 - val_loss: 1.9679e-04 - val_mean_squared_error: 1.9679e-04\n",
      "Epoch 5/30\n",
      "\u001b[1m126/126\u001b[0m \u001b[32m━━━━━━━━━━━━━━━━━━━━\u001b[0m\u001b[37m\u001b[0m \u001b[1m58s\u001b[0m 460ms/step - loss: 7.7016e-05 - mean_squared_error: 7.7016e-05 - val_loss: 1.7615e-04 - val_mean_squared_error: 1.7615e-04\n",
      "Epoch 6/30\n",
      "\u001b[1m126/126\u001b[0m \u001b[32m━━━━━━━━━━━━━━━━━━━━\u001b[0m\u001b[37m\u001b[0m \u001b[1m56s\u001b[0m 447ms/step - loss: 6.0785e-05 - mean_squared_error: 6.0785e-05 - val_loss: 1.6807e-04 - val_mean_squared_error: 1.6807e-04\n",
      "Epoch 7/30\n",
      "\u001b[1m126/126\u001b[0m \u001b[32m━━━━━━━━━━━━━━━━━━━━\u001b[0m\u001b[37m\u001b[0m \u001b[1m56s\u001b[0m 446ms/step - loss: 5.4061e-05 - mean_squared_error: 5.4061e-05 - val_loss: 1.6095e-04 - val_mean_squared_error: 1.6095e-04\n",
      "Epoch 8/30\n",
      "\u001b[1m126/126\u001b[0m \u001b[32m━━━━━━━━━━━━━━━━━━━━\u001b[0m\u001b[37m\u001b[0m \u001b[1m55s\u001b[0m 437ms/step - loss: 4.5970e-05 - mean_squared_error: 4.5970e-05 - val_loss: 1.5392e-04 - val_mean_squared_error: 1.5392e-04\n",
      "Epoch 9/30\n",
      "\u001b[1m126/126\u001b[0m \u001b[32m━━━━━━━━━━━━━━━━━━━━\u001b[0m\u001b[37m\u001b[0m \u001b[1m54s\u001b[0m 427ms/step - loss: 4.2361e-05 - mean_squared_error: 4.2361e-05 - val_loss: 1.5226e-04 - val_mean_squared_error: 1.5226e-04\n",
      "Epoch 10/30\n",
      "\u001b[1m126/126\u001b[0m \u001b[32m━━━━━━━━━━━━━━━━━━━━\u001b[0m\u001b[37m\u001b[0m \u001b[1m53s\u001b[0m 424ms/step - loss: 3.7183e-05 - mean_squared_error: 3.7183e-05 - val_loss: 1.4659e-04 - val_mean_squared_error: 1.4659e-04\n",
      "Epoch 11/30\n",
      "\u001b[1m126/126\u001b[0m \u001b[32m━━━━━━━━━━━━━━━━━━━━\u001b[0m\u001b[37m\u001b[0m \u001b[1m53s\u001b[0m 420ms/step - loss: 3.5836e-05 - mean_squared_error: 3.5836e-05 - val_loss: 1.4396e-04 - val_mean_squared_error: 1.4396e-04\n",
      "Epoch 12/30\n",
      "\u001b[1m126/126\u001b[0m \u001b[32m━━━━━━━━━━━━━━━━━━━━\u001b[0m\u001b[37m\u001b[0m \u001b[1m52s\u001b[0m 411ms/step - loss: 3.5480e-05 - mean_squared_error: 3.5480e-05 - val_loss: 1.4685e-04 - val_mean_squared_error: 1.4685e-04\n",
      "Epoch 13/30\n",
      "\u001b[1m126/126\u001b[0m \u001b[32m━━━━━━━━━━━━━━━━━━━━\u001b[0m\u001b[37m\u001b[0m \u001b[1m52s\u001b[0m 412ms/step - loss: 4.9767e-05 - mean_squared_error: 4.9767e-05 - val_loss: 1.3761e-04 - val_mean_squared_error: 1.3761e-04\n",
      "Epoch 14/30\n",
      "\u001b[1m126/126\u001b[0m \u001b[32m━━━━━━━━━━━━━━━━━━━━\u001b[0m\u001b[37m\u001b[0m \u001b[1m51s\u001b[0m 408ms/step - loss: 8.1526e-05 - mean_squared_error: 8.1526e-05 - val_loss: 1.3848e-04 - val_mean_squared_error: 1.3848e-04\n",
      "Epoch 15/30\n",
      "\u001b[1m126/126\u001b[0m \u001b[32m━━━━━━━━━━━━━━━━━━━━\u001b[0m\u001b[37m\u001b[0m \u001b[1m51s\u001b[0m 403ms/step - loss: 3.1195e-05 - mean_squared_error: 3.1195e-05 - val_loss: 1.4061e-04 - val_mean_squared_error: 1.4061e-04\n",
      "Epoch 16/30\n",
      "\u001b[1m126/126\u001b[0m \u001b[32m━━━━━━━━━━━━━━━━━━━━\u001b[0m\u001b[37m\u001b[0m \u001b[1m50s\u001b[0m 398ms/step - loss: 2.6582e-05 - mean_squared_error: 2.6582e-05 - val_loss: 1.3350e-04 - val_mean_squared_error: 1.3350e-04\n",
      "Epoch 17/30\n",
      "\u001b[1m126/126\u001b[0m \u001b[32m━━━━━━━━━━━━━━━━━━━━\u001b[0m\u001b[37m\u001b[0m \u001b[1m49s\u001b[0m 393ms/step - loss: 2.7384e-05 - mean_squared_error: 2.7384e-05 - val_loss: 1.2909e-04 - val_mean_squared_error: 1.2909e-04\n",
      "Epoch 18/30\n",
      "\u001b[1m126/126\u001b[0m \u001b[32m━━━━━━━━━━━━━━━━━━━━\u001b[0m\u001b[37m\u001b[0m \u001b[1m49s\u001b[0m 392ms/step - loss: 2.4420e-05 - mean_squared_error: 2.4420e-05 - val_loss: 1.2760e-04 - val_mean_squared_error: 1.2760e-04\n",
      "Epoch 19/30\n",
      "\u001b[1m126/126\u001b[0m \u001b[32m━━━━━━━━━━━━━━━━━━━━\u001b[0m\u001b[37m\u001b[0m \u001b[1m49s\u001b[0m 386ms/step - loss: 2.7497e-05 - mean_squared_error: 2.7497e-05 - val_loss: 1.2441e-04 - val_mean_squared_error: 1.2441e-04\n",
      "Epoch 20/30\n",
      "\u001b[1m126/126\u001b[0m \u001b[32m━━━━━━━━━━━━━━━━━━━━\u001b[0m\u001b[37m\u001b[0m \u001b[1m48s\u001b[0m 382ms/step - loss: 2.4403e-05 - mean_squared_error: 2.4403e-05 - val_loss: 1.2026e-04 - val_mean_squared_error: 1.2026e-04\n",
      "Epoch 21/30\n",
      "\u001b[1m126/126\u001b[0m \u001b[32m━━━━━━━━━━━━━━━━━━━━\u001b[0m\u001b[37m\u001b[0m \u001b[1m48s\u001b[0m 378ms/step - loss: 2.3749e-05 - mean_squared_error: 2.3749e-05 - val_loss: 1.1698e-04 - val_mean_squared_error: 1.1698e-04\n",
      "Epoch 22/30\n",
      "\u001b[1m126/126\u001b[0m \u001b[32m━━━━━━━━━━━━━━━━━━━━\u001b[0m\u001b[37m\u001b[0m \u001b[1m47s\u001b[0m 372ms/step - loss: 2.7412e-05 - mean_squared_error: 2.7412e-05 - val_loss: 1.1576e-04 - val_mean_squared_error: 1.1576e-04\n",
      "Epoch 23/30\n",
      "\u001b[1m126/126\u001b[0m \u001b[32m━━━━━━━━━━━━━━━━━━━━\u001b[0m\u001b[37m\u001b[0m \u001b[1m47s\u001b[0m 374ms/step - loss: 2.3604e-05 - mean_squared_error: 2.3604e-05 - val_loss: 1.1066e-04 - val_mean_squared_error: 1.1066e-04\n",
      "Epoch 24/30\n",
      "\u001b[1m126/126\u001b[0m \u001b[32m━━━━━━━━━━━━━━━━━━━━\u001b[0m\u001b[37m\u001b[0m \u001b[1m47s\u001b[0m 370ms/step - loss: 1.2308e-04 - mean_squared_error: 1.2308e-04 - val_loss: 1.2956e-04 - val_mean_squared_error: 1.2956e-04\n",
      "Epoch 25/30\n",
      "\u001b[1m126/126\u001b[0m \u001b[32m━━━━━━━━━━━━━━━━━━━━\u001b[0m\u001b[37m\u001b[0m \u001b[1m46s\u001b[0m 367ms/step - loss: 2.6579e-05 - mean_squared_error: 2.6579e-05 - val_loss: 1.1594e-04 - val_mean_squared_error: 1.1594e-04\n",
      "Epoch 26/30\n",
      "\u001b[1m126/126\u001b[0m \u001b[32m━━━━━━━━━━━━━━━━━━━━\u001b[0m\u001b[37m\u001b[0m \u001b[1m46s\u001b[0m 365ms/step - loss: 2.1540e-05 - mean_squared_error: 2.1540e-05 - val_loss: 1.1159e-04 - val_mean_squared_error: 1.1159e-04\n",
      "Epoch 26: early stopping\n"
     ]
    }
   ],
   "source": [
    "\n",
    "normalization_layer = Normalization()\n",
    "normalization_layer.adapt(train_set)\n",
    "\n",
    "model = Sequential([\n",
    "    normalization_layer,\n",
    "    Conv2D(128, (3, 3), activation=\"relu\"),\n",
    "    Conv2D(64, (3, 3), activation=\"relu\"),\n",
    "    Conv2D(32, (3, 3), activation=\"relu\"),\n",
    "    Conv2DTranspose(64, (3, 3), activation=\"relu\"),\n",
    "    Conv2DTranspose(128, (3, 3), activation=\"relu\"),\n",
    "    Conv2DTranspose(1, (3, 3), activation=\"sigmoid\")\n",
    "])\n",
    "\n",
    "\n",
    "loss = \"mean_squared_error\"\n",
    "print('loss:', loss)\n",
    "\n",
    "model.compile(optimizer=\"adam\", loss=loss, metrics=[\"mean_squared_error\"])\n",
    "\n",
    "batch_size = 32\n",
    "print('batch_size:', batch_size)\n",
    "\n",
    "early_stopping = EarlyStopping(monitor='val_loss', patience=3, verbose=1)\n",
    "history = model.fit(train_set, train_set,\n",
    "                epochs=30,\n",
    "                batch_size=batch_size,\n",
    "                callbacks=[early_stopping],\n",
    "                validation_data=(validation_set, validation_set))"
   ]
  },
  {
   "cell_type": "markdown",
   "metadata": {},
   "source": [
    "save the model"
   ]
  },
  {
   "cell_type": "code",
   "execution_count": 30,
   "metadata": {},
   "outputs": [],
   "source": [
    "model.save('model_q3.keras')"
   ]
  }
 ],
 "metadata": {
  "kernelspec": {
   "display_name": "venv",
   "language": "python",
   "name": "python3"
  },
  "language_info": {
   "codemirror_mode": {
    "name": "ipython",
    "version": 3
   },
   "file_extension": ".py",
   "mimetype": "text/x-python",
   "name": "python",
   "nbconvert_exporter": "python",
   "pygments_lexer": "ipython3",
   "version": "3.11.9"
  }
 },
 "nbformat": 4,
 "nbformat_minor": 2
}
